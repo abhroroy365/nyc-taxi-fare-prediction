{
 "cells": [
  {
   "cell_type": "markdown",
   "id": "b64d8a50",
   "metadata": {},
   "source": [
    "# view dataset files"
   ]
  },
  {
   "cell_type": "code",
   "execution_count": 1,
   "id": "054fde5f",
   "metadata": {},
   "outputs": [],
   "source": [
    "import pandas as pd\n",
    "import numpy as np"
   ]
  },
  {
   "cell_type": "code",
   "execution_count": 2,
   "id": "78093fb4",
   "metadata": {},
   "outputs": [],
   "source": [
    "import matplotlib.pyplot as plt"
   ]
  },
  {
   "cell_type": "code",
   "execution_count": 3,
   "id": "3ed72b35",
   "metadata": {},
   "outputs": [],
   "source": [
    "%matplotlib inline"
   ]
  },
  {
   "cell_type": "markdown",
   "id": "ac723722",
   "metadata": {},
   "source": [
    "# loading data "
   ]
  },
  {
   "cell_type": "code",
   "execution_count": 4,
   "id": "f13242f8",
   "metadata": {},
   "outputs": [
    {
     "data": {
      "text/plain": [
       "['fare_amount',\n",
       " 'pickup_datetime',\n",
       " 'pickup_longitude',\n",
       " 'pickup_latitude',\n",
       " 'dropoff_longitude',\n",
       " 'dropoff_latitude',\n",
       " 'passenger_count']"
      ]
     },
     "execution_count": 4,
     "metadata": {},
     "output_type": "execute_result"
    }
   ],
   "source": [
    "selected_cells = 'fare_amount,pickup_datetime,pickup_longitude,pickup_latitude,dropoff_longitude,dropoff_latitude,passenger_count'.split(',')\n",
    "selected_cells"
   ]
  },
  {
   "cell_type": "code",
   "execution_count": 5,
   "id": "dbffd2ef",
   "metadata": {},
   "outputs": [],
   "source": [
    "data_types = {\n",
    "    'fare_amount':'float32',\n",
    "    'pickup_datetime':'float32',\n",
    "  'pickup_longitude':'float32',\n",
    "  'pickup_latitude':'float32',\n",
    "  'dropoff_longitude':'float32',\n",
    "  'dropoff_latitude':'float32',\n",
    "  'passenger_count':'uint8'\n",
    "}"
   ]
  },
  {
   "cell_type": "code",
   "execution_count": 6,
   "id": "afc5cb69",
   "metadata": {},
   "outputs": [],
   "source": [
    "# sample_frac = 0.01"
   ]
  },
  {
   "cell_type": "code",
   "execution_count": 7,
   "id": "2262ec3e",
   "metadata": {},
   "outputs": [],
   "source": [
    "# import random"
   ]
  },
  {
   "cell_type": "code",
   "execution_count": 8,
   "id": "42ae1f4d",
   "metadata": {},
   "outputs": [],
   "source": [
    "# def skip(index):\n",
    "#     if index ==0:\n",
    "#         return False\n",
    "#     return random.random() > sample_frac"
   ]
  },
  {
   "cell_type": "code",
   "execution_count": 9,
   "id": "49fe6644",
   "metadata": {},
   "outputs": [],
   "source": [
    "# random.seed(42)"
   ]
  },
  {
   "cell_type": "code",
   "execution_count": 10,
   "id": "a8890c78",
   "metadata": {},
   "outputs": [],
   "source": [
    "# data_train = pd.read_csv(\"train.csv\",\n",
    "#                          usecols=selected_cells,\n",
    "#                          skiprows=lambda x : skip(x),\n",
    "#                          dtype=data_types,\n",
    "#                          parse_dates=['pickup_datetime'])"
   ]
  },
  {
   "cell_type": "code",
   "execution_count": 11,
   "id": "73a0ce71",
   "metadata": {},
   "outputs": [],
   "source": [
    "data_train = pd.read_csv(\"req_1_train.csv\",parse_dates=['pickup_datetime'])"
   ]
  },
  {
   "cell_type": "code",
   "execution_count": null,
   "id": "e2cd160f",
   "metadata": {},
   "outputs": [],
   "source": []
  },
  {
   "cell_type": "code",
   "execution_count": 12,
   "id": "69d35663",
   "metadata": {},
   "outputs": [
    {
     "data": {
      "text/html": [
       "<div>\n",
       "<style scoped>\n",
       "    .dataframe tbody tr th:only-of-type {\n",
       "        vertical-align: middle;\n",
       "    }\n",
       "\n",
       "    .dataframe tbody tr th {\n",
       "        vertical-align: top;\n",
       "    }\n",
       "\n",
       "    .dataframe thead th {\n",
       "        text-align: right;\n",
       "    }\n",
       "</style>\n",
       "<table border=\"1\" class=\"dataframe\">\n",
       "  <thead>\n",
       "    <tr style=\"text-align: right;\">\n",
       "      <th></th>\n",
       "      <th>fare_amount</th>\n",
       "      <th>pickup_datetime</th>\n",
       "      <th>pickup_longitude</th>\n",
       "      <th>pickup_latitude</th>\n",
       "      <th>dropoff_longitude</th>\n",
       "      <th>dropoff_latitude</th>\n",
       "      <th>passenger_count</th>\n",
       "    </tr>\n",
       "  </thead>\n",
       "  <tbody>\n",
       "    <tr>\n",
       "      <th>0</th>\n",
       "      <td>13.5</td>\n",
       "      <td>2013-07-06 17:18:00+00:00</td>\n",
       "      <td>-73.95065</td>\n",
       "      <td>40.783283</td>\n",
       "      <td>-73.984370</td>\n",
       "      <td>40.769802</td>\n",
       "      <td>1</td>\n",
       "    </tr>\n",
       "    <tr>\n",
       "      <th>1</th>\n",
       "      <td>9.0</td>\n",
       "      <td>2015-02-15 22:41:32+00:00</td>\n",
       "      <td>-74.00345</td>\n",
       "      <td>40.733100</td>\n",
       "      <td>-74.008000</td>\n",
       "      <td>40.707214</td>\n",
       "      <td>1</td>\n",
       "    </tr>\n",
       "    <tr>\n",
       "      <th>2</th>\n",
       "      <td>5.7</td>\n",
       "      <td>2011-12-13 05:56:00+00:00</td>\n",
       "      <td>-73.99049</td>\n",
       "      <td>40.755980</td>\n",
       "      <td>-73.974205</td>\n",
       "      <td>40.754210</td>\n",
       "      <td>4</td>\n",
       "    </tr>\n",
       "    <tr>\n",
       "      <th>3</th>\n",
       "      <td>5.3</td>\n",
       "      <td>2012-04-02 08:02:16+00:00</td>\n",
       "      <td>-73.94800</td>\n",
       "      <td>40.778540</td>\n",
       "      <td>-73.958565</td>\n",
       "      <td>40.778484</td>\n",
       "      <td>2</td>\n",
       "    </tr>\n",
       "    <tr>\n",
       "      <th>4</th>\n",
       "      <td>13.0</td>\n",
       "      <td>2013-11-07 10:19:35+00:00</td>\n",
       "      <td>-73.98580</td>\n",
       "      <td>40.777477</td>\n",
       "      <td>-73.987410</td>\n",
       "      <td>40.754368</td>\n",
       "      <td>1</td>\n",
       "    </tr>\n",
       "  </tbody>\n",
       "</table>\n",
       "</div>"
      ],
      "text/plain": [
       "   fare_amount           pickup_datetime  pickup_longitude  pickup_latitude  \\\n",
       "0         13.5 2013-07-06 17:18:00+00:00         -73.95065        40.783283   \n",
       "1          9.0 2015-02-15 22:41:32+00:00         -74.00345        40.733100   \n",
       "2          5.7 2011-12-13 05:56:00+00:00         -73.99049        40.755980   \n",
       "3          5.3 2012-04-02 08:02:16+00:00         -73.94800        40.778540   \n",
       "4         13.0 2013-11-07 10:19:35+00:00         -73.98580        40.777477   \n",
       "\n",
       "   dropoff_longitude  dropoff_latitude  passenger_count  \n",
       "0         -73.984370         40.769802                1  \n",
       "1         -74.008000         40.707214                1  \n",
       "2         -73.974205         40.754210                4  \n",
       "3         -73.958565         40.778484                2  \n",
       "4         -73.987410         40.754368                1  "
      ]
     },
     "execution_count": 12,
     "metadata": {},
     "output_type": "execute_result"
    }
   ],
   "source": [
    "data_train.head()"
   ]
  },
  {
   "cell_type": "code",
   "execution_count": null,
   "id": "ef796691",
   "metadata": {},
   "outputs": [],
   "source": []
  },
  {
   "cell_type": "code",
   "execution_count": 13,
   "id": "f61d0553",
   "metadata": {},
   "outputs": [],
   "source": [
    "d = pd.read_csv('test.csv')"
   ]
  },
  {
   "cell_type": "code",
   "execution_count": 14,
   "id": "5a00de62",
   "metadata": {},
   "outputs": [
    {
     "data": {
      "text/html": [
       "<div>\n",
       "<style scoped>\n",
       "    .dataframe tbody tr th:only-of-type {\n",
       "        vertical-align: middle;\n",
       "    }\n",
       "\n",
       "    .dataframe tbody tr th {\n",
       "        vertical-align: top;\n",
       "    }\n",
       "\n",
       "    .dataframe thead th {\n",
       "        text-align: right;\n",
       "    }\n",
       "</style>\n",
       "<table border=\"1\" class=\"dataframe\">\n",
       "  <thead>\n",
       "    <tr style=\"text-align: right;\">\n",
       "      <th></th>\n",
       "      <th>key</th>\n",
       "      <th>pickup_datetime</th>\n",
       "      <th>pickup_longitude</th>\n",
       "      <th>pickup_latitude</th>\n",
       "      <th>dropoff_longitude</th>\n",
       "      <th>dropoff_latitude</th>\n",
       "      <th>passenger_count</th>\n",
       "    </tr>\n",
       "  </thead>\n",
       "  <tbody>\n",
       "    <tr>\n",
       "      <th>0</th>\n",
       "      <td>2015-01-27 13:08:24.0000002</td>\n",
       "      <td>2015-01-27 13:08:24 UTC</td>\n",
       "      <td>-73.973320</td>\n",
       "      <td>40.763805</td>\n",
       "      <td>-73.981430</td>\n",
       "      <td>40.743835</td>\n",
       "      <td>1</td>\n",
       "    </tr>\n",
       "    <tr>\n",
       "      <th>1</th>\n",
       "      <td>2015-01-27 13:08:24.0000003</td>\n",
       "      <td>2015-01-27 13:08:24 UTC</td>\n",
       "      <td>-73.986862</td>\n",
       "      <td>40.719383</td>\n",
       "      <td>-73.998886</td>\n",
       "      <td>40.739201</td>\n",
       "      <td>1</td>\n",
       "    </tr>\n",
       "    <tr>\n",
       "      <th>2</th>\n",
       "      <td>2011-10-08 11:53:44.0000002</td>\n",
       "      <td>2011-10-08 11:53:44 UTC</td>\n",
       "      <td>-73.982524</td>\n",
       "      <td>40.751260</td>\n",
       "      <td>-73.979654</td>\n",
       "      <td>40.746139</td>\n",
       "      <td>1</td>\n",
       "    </tr>\n",
       "    <tr>\n",
       "      <th>3</th>\n",
       "      <td>2012-12-01 21:12:12.0000002</td>\n",
       "      <td>2012-12-01 21:12:12 UTC</td>\n",
       "      <td>-73.981160</td>\n",
       "      <td>40.767807</td>\n",
       "      <td>-73.990448</td>\n",
       "      <td>40.751635</td>\n",
       "      <td>1</td>\n",
       "    </tr>\n",
       "    <tr>\n",
       "      <th>4</th>\n",
       "      <td>2012-12-01 21:12:12.0000003</td>\n",
       "      <td>2012-12-01 21:12:12 UTC</td>\n",
       "      <td>-73.966046</td>\n",
       "      <td>40.789775</td>\n",
       "      <td>-73.988565</td>\n",
       "      <td>40.744427</td>\n",
       "      <td>1</td>\n",
       "    </tr>\n",
       "    <tr>\n",
       "      <th>...</th>\n",
       "      <td>...</td>\n",
       "      <td>...</td>\n",
       "      <td>...</td>\n",
       "      <td>...</td>\n",
       "      <td>...</td>\n",
       "      <td>...</td>\n",
       "      <td>...</td>\n",
       "    </tr>\n",
       "    <tr>\n",
       "      <th>9909</th>\n",
       "      <td>2015-05-10 12:37:51.0000002</td>\n",
       "      <td>2015-05-10 12:37:51 UTC</td>\n",
       "      <td>-73.968124</td>\n",
       "      <td>40.796997</td>\n",
       "      <td>-73.955643</td>\n",
       "      <td>40.780388</td>\n",
       "      <td>6</td>\n",
       "    </tr>\n",
       "    <tr>\n",
       "      <th>9910</th>\n",
       "      <td>2015-01-12 17:05:51.0000001</td>\n",
       "      <td>2015-01-12 17:05:51 UTC</td>\n",
       "      <td>-73.945511</td>\n",
       "      <td>40.803600</td>\n",
       "      <td>-73.960213</td>\n",
       "      <td>40.776371</td>\n",
       "      <td>6</td>\n",
       "    </tr>\n",
       "    <tr>\n",
       "      <th>9911</th>\n",
       "      <td>2015-04-19 20:44:15.0000001</td>\n",
       "      <td>2015-04-19 20:44:15 UTC</td>\n",
       "      <td>-73.991600</td>\n",
       "      <td>40.726608</td>\n",
       "      <td>-73.789742</td>\n",
       "      <td>40.647011</td>\n",
       "      <td>6</td>\n",
       "    </tr>\n",
       "    <tr>\n",
       "      <th>9912</th>\n",
       "      <td>2015-01-31 01:05:19.0000005</td>\n",
       "      <td>2015-01-31 01:05:19 UTC</td>\n",
       "      <td>-73.985573</td>\n",
       "      <td>40.735432</td>\n",
       "      <td>-73.939178</td>\n",
       "      <td>40.801731</td>\n",
       "      <td>6</td>\n",
       "    </tr>\n",
       "    <tr>\n",
       "      <th>9913</th>\n",
       "      <td>2015-01-18 14:06:23.0000006</td>\n",
       "      <td>2015-01-18 14:06:23 UTC</td>\n",
       "      <td>-73.988022</td>\n",
       "      <td>40.754070</td>\n",
       "      <td>-74.000282</td>\n",
       "      <td>40.759220</td>\n",
       "      <td>6</td>\n",
       "    </tr>\n",
       "  </tbody>\n",
       "</table>\n",
       "<p>9914 rows × 7 columns</p>\n",
       "</div>"
      ],
      "text/plain": [
       "                              key          pickup_datetime  pickup_longitude  \\\n",
       "0     2015-01-27 13:08:24.0000002  2015-01-27 13:08:24 UTC        -73.973320   \n",
       "1     2015-01-27 13:08:24.0000003  2015-01-27 13:08:24 UTC        -73.986862   \n",
       "2     2011-10-08 11:53:44.0000002  2011-10-08 11:53:44 UTC        -73.982524   \n",
       "3     2012-12-01 21:12:12.0000002  2012-12-01 21:12:12 UTC        -73.981160   \n",
       "4     2012-12-01 21:12:12.0000003  2012-12-01 21:12:12 UTC        -73.966046   \n",
       "...                           ...                      ...               ...   \n",
       "9909  2015-05-10 12:37:51.0000002  2015-05-10 12:37:51 UTC        -73.968124   \n",
       "9910  2015-01-12 17:05:51.0000001  2015-01-12 17:05:51 UTC        -73.945511   \n",
       "9911  2015-04-19 20:44:15.0000001  2015-04-19 20:44:15 UTC        -73.991600   \n",
       "9912  2015-01-31 01:05:19.0000005  2015-01-31 01:05:19 UTC        -73.985573   \n",
       "9913  2015-01-18 14:06:23.0000006  2015-01-18 14:06:23 UTC        -73.988022   \n",
       "\n",
       "      pickup_latitude  dropoff_longitude  dropoff_latitude  passenger_count  \n",
       "0           40.763805         -73.981430         40.743835                1  \n",
       "1           40.719383         -73.998886         40.739201                1  \n",
       "2           40.751260         -73.979654         40.746139                1  \n",
       "3           40.767807         -73.990448         40.751635                1  \n",
       "4           40.789775         -73.988565         40.744427                1  \n",
       "...               ...                ...               ...              ...  \n",
       "9909        40.796997         -73.955643         40.780388                6  \n",
       "9910        40.803600         -73.960213         40.776371                6  \n",
       "9911        40.726608         -73.789742         40.647011                6  \n",
       "9912        40.735432         -73.939178         40.801731                6  \n",
       "9913        40.754070         -74.000282         40.759220                6  \n",
       "\n",
       "[9914 rows x 7 columns]"
      ]
     },
     "execution_count": 14,
     "metadata": {},
     "output_type": "execute_result"
    }
   ],
   "source": [
    "d"
   ]
  },
  {
   "cell_type": "code",
   "execution_count": 15,
   "id": "11b1aa2d",
   "metadata": {},
   "outputs": [
    {
     "data": {
      "text/plain": [
       "(9914, 7)"
      ]
     },
     "execution_count": 15,
     "metadata": {},
     "output_type": "execute_result"
    }
   ],
   "source": [
    "d.shape"
   ]
  },
  {
   "cell_type": "code",
   "execution_count": 16,
   "id": "55b24b8b",
   "metadata": {},
   "outputs": [],
   "source": [
    "data_types_test = {\n",
    "    'fare_amount':'float32',\n",
    "  'pickup_longitude':'float32',\n",
    "  'pickup_latitude':'float32',\n",
    "  'dropoff_longitude':'float32',\n",
    "  'dropoff_latitude':'float32',\n",
    "  'passenger_count':'uint8'\n",
    "}"
   ]
  },
  {
   "cell_type": "code",
   "execution_count": null,
   "id": "8a603758",
   "metadata": {},
   "outputs": [],
   "source": []
  },
  {
   "cell_type": "code",
   "execution_count": 17,
   "id": "1e81d162",
   "metadata": {},
   "outputs": [],
   "source": [
    "data_test = pd.read_csv(\"test.csv\",dtype=data_types_test,parse_dates=['pickup_datetime'])"
   ]
  },
  {
   "cell_type": "code",
   "execution_count": 18,
   "id": "70d57f8c",
   "metadata": {},
   "outputs": [
    {
     "data": {
      "text/html": [
       "<div>\n",
       "<style scoped>\n",
       "    .dataframe tbody tr th:only-of-type {\n",
       "        vertical-align: middle;\n",
       "    }\n",
       "\n",
       "    .dataframe tbody tr th {\n",
       "        vertical-align: top;\n",
       "    }\n",
       "\n",
       "    .dataframe thead th {\n",
       "        text-align: right;\n",
       "    }\n",
       "</style>\n",
       "<table border=\"1\" class=\"dataframe\">\n",
       "  <thead>\n",
       "    <tr style=\"text-align: right;\">\n",
       "      <th></th>\n",
       "      <th>key</th>\n",
       "      <th>pickup_datetime</th>\n",
       "      <th>pickup_longitude</th>\n",
       "      <th>pickup_latitude</th>\n",
       "      <th>dropoff_longitude</th>\n",
       "      <th>dropoff_latitude</th>\n",
       "      <th>passenger_count</th>\n",
       "    </tr>\n",
       "  </thead>\n",
       "  <tbody>\n",
       "    <tr>\n",
       "      <th>0</th>\n",
       "      <td>2015-01-27 13:08:24.0000002</td>\n",
       "      <td>2015-01-27 13:08:24+00:00</td>\n",
       "      <td>-73.973320</td>\n",
       "      <td>40.763805</td>\n",
       "      <td>-73.981430</td>\n",
       "      <td>40.743835</td>\n",
       "      <td>1</td>\n",
       "    </tr>\n",
       "    <tr>\n",
       "      <th>1</th>\n",
       "      <td>2015-01-27 13:08:24.0000003</td>\n",
       "      <td>2015-01-27 13:08:24+00:00</td>\n",
       "      <td>-73.986862</td>\n",
       "      <td>40.719383</td>\n",
       "      <td>-73.998886</td>\n",
       "      <td>40.739201</td>\n",
       "      <td>1</td>\n",
       "    </tr>\n",
       "    <tr>\n",
       "      <th>2</th>\n",
       "      <td>2011-10-08 11:53:44.0000002</td>\n",
       "      <td>2011-10-08 11:53:44+00:00</td>\n",
       "      <td>-73.982521</td>\n",
       "      <td>40.751259</td>\n",
       "      <td>-73.979652</td>\n",
       "      <td>40.746140</td>\n",
       "      <td>1</td>\n",
       "    </tr>\n",
       "    <tr>\n",
       "      <th>3</th>\n",
       "      <td>2012-12-01 21:12:12.0000002</td>\n",
       "      <td>2012-12-01 21:12:12+00:00</td>\n",
       "      <td>-73.981163</td>\n",
       "      <td>40.767807</td>\n",
       "      <td>-73.990448</td>\n",
       "      <td>40.751637</td>\n",
       "      <td>1</td>\n",
       "    </tr>\n",
       "    <tr>\n",
       "      <th>4</th>\n",
       "      <td>2012-12-01 21:12:12.0000003</td>\n",
       "      <td>2012-12-01 21:12:12+00:00</td>\n",
       "      <td>-73.966049</td>\n",
       "      <td>40.789776</td>\n",
       "      <td>-73.988564</td>\n",
       "      <td>40.744427</td>\n",
       "      <td>1</td>\n",
       "    </tr>\n",
       "    <tr>\n",
       "      <th>...</th>\n",
       "      <td>...</td>\n",
       "      <td>...</td>\n",
       "      <td>...</td>\n",
       "      <td>...</td>\n",
       "      <td>...</td>\n",
       "      <td>...</td>\n",
       "      <td>...</td>\n",
       "    </tr>\n",
       "    <tr>\n",
       "      <th>9909</th>\n",
       "      <td>2015-05-10 12:37:51.0000002</td>\n",
       "      <td>2015-05-10 12:37:51+00:00</td>\n",
       "      <td>-73.968124</td>\n",
       "      <td>40.796997</td>\n",
       "      <td>-73.955643</td>\n",
       "      <td>40.780388</td>\n",
       "      <td>6</td>\n",
       "    </tr>\n",
       "    <tr>\n",
       "      <th>9910</th>\n",
       "      <td>2015-01-12 17:05:51.0000001</td>\n",
       "      <td>2015-01-12 17:05:51+00:00</td>\n",
       "      <td>-73.945511</td>\n",
       "      <td>40.803600</td>\n",
       "      <td>-73.960213</td>\n",
       "      <td>40.776371</td>\n",
       "      <td>6</td>\n",
       "    </tr>\n",
       "    <tr>\n",
       "      <th>9911</th>\n",
       "      <td>2015-04-19 20:44:15.0000001</td>\n",
       "      <td>2015-04-19 20:44:15+00:00</td>\n",
       "      <td>-73.991600</td>\n",
       "      <td>40.726608</td>\n",
       "      <td>-73.789742</td>\n",
       "      <td>40.647011</td>\n",
       "      <td>6</td>\n",
       "    </tr>\n",
       "    <tr>\n",
       "      <th>9912</th>\n",
       "      <td>2015-01-31 01:05:19.0000005</td>\n",
       "      <td>2015-01-31 01:05:19+00:00</td>\n",
       "      <td>-73.985573</td>\n",
       "      <td>40.735432</td>\n",
       "      <td>-73.939178</td>\n",
       "      <td>40.801731</td>\n",
       "      <td>6</td>\n",
       "    </tr>\n",
       "    <tr>\n",
       "      <th>9913</th>\n",
       "      <td>2015-01-18 14:06:23.0000006</td>\n",
       "      <td>2015-01-18 14:06:23+00:00</td>\n",
       "      <td>-73.988022</td>\n",
       "      <td>40.754070</td>\n",
       "      <td>-74.000282</td>\n",
       "      <td>40.759220</td>\n",
       "      <td>6</td>\n",
       "    </tr>\n",
       "  </tbody>\n",
       "</table>\n",
       "<p>9914 rows × 7 columns</p>\n",
       "</div>"
      ],
      "text/plain": [
       "                              key           pickup_datetime  pickup_longitude  \\\n",
       "0     2015-01-27 13:08:24.0000002 2015-01-27 13:08:24+00:00        -73.973320   \n",
       "1     2015-01-27 13:08:24.0000003 2015-01-27 13:08:24+00:00        -73.986862   \n",
       "2     2011-10-08 11:53:44.0000002 2011-10-08 11:53:44+00:00        -73.982521   \n",
       "3     2012-12-01 21:12:12.0000002 2012-12-01 21:12:12+00:00        -73.981163   \n",
       "4     2012-12-01 21:12:12.0000003 2012-12-01 21:12:12+00:00        -73.966049   \n",
       "...                           ...                       ...               ...   \n",
       "9909  2015-05-10 12:37:51.0000002 2015-05-10 12:37:51+00:00        -73.968124   \n",
       "9910  2015-01-12 17:05:51.0000001 2015-01-12 17:05:51+00:00        -73.945511   \n",
       "9911  2015-04-19 20:44:15.0000001 2015-04-19 20:44:15+00:00        -73.991600   \n",
       "9912  2015-01-31 01:05:19.0000005 2015-01-31 01:05:19+00:00        -73.985573   \n",
       "9913  2015-01-18 14:06:23.0000006 2015-01-18 14:06:23+00:00        -73.988022   \n",
       "\n",
       "      pickup_latitude  dropoff_longitude  dropoff_latitude  passenger_count  \n",
       "0           40.763805         -73.981430         40.743835                1  \n",
       "1           40.719383         -73.998886         40.739201                1  \n",
       "2           40.751259         -73.979652         40.746140                1  \n",
       "3           40.767807         -73.990448         40.751637                1  \n",
       "4           40.789776         -73.988564         40.744427                1  \n",
       "...               ...                ...               ...              ...  \n",
       "9909        40.796997         -73.955643         40.780388                6  \n",
       "9910        40.803600         -73.960213         40.776371                6  \n",
       "9911        40.726608         -73.789742         40.647011                6  \n",
       "9912        40.735432         -73.939178         40.801731                6  \n",
       "9913        40.754070         -74.000282         40.759220                6  \n",
       "\n",
       "[9914 rows x 7 columns]"
      ]
     },
     "execution_count": 18,
     "metadata": {},
     "output_type": "execute_result"
    }
   ],
   "source": [
    "data_test"
   ]
  },
  {
   "cell_type": "code",
   "execution_count": null,
   "id": "f2d4c5e8",
   "metadata": {},
   "outputs": [],
   "source": []
  },
  {
   "cell_type": "markdown",
   "id": "2243d200",
   "metadata": {},
   "source": [
    "# exploring the data"
   ]
  },
  {
   "cell_type": "code",
   "execution_count": 19,
   "id": "67ac78cd",
   "metadata": {},
   "outputs": [
    {
     "name": "stdout",
     "output_type": "stream",
     "text": [
      "<class 'pandas.core.frame.DataFrame'>\n",
      "RangeIndex: 553888 entries, 0 to 553887\n",
      "Data columns (total 7 columns):\n",
      " #   Column             Non-Null Count   Dtype              \n",
      "---  ------             --------------   -----              \n",
      " 0   fare_amount        553888 non-null  float64            \n",
      " 1   pickup_datetime    553888 non-null  datetime64[ns, UTC]\n",
      " 2   pickup_longitude   553888 non-null  float64            \n",
      " 3   pickup_latitude    553888 non-null  float64            \n",
      " 4   dropoff_longitude  553884 non-null  float64            \n",
      " 5   dropoff_latitude   553884 non-null  float64            \n",
      " 6   passenger_count    553888 non-null  int64              \n",
      "dtypes: datetime64[ns, UTC](1), float64(5), int64(1)\n",
      "memory usage: 29.6 MB\n"
     ]
    }
   ],
   "source": [
    "data_train.info()"
   ]
  },
  {
   "cell_type": "code",
   "execution_count": 20,
   "id": "2d830697",
   "metadata": {},
   "outputs": [
    {
     "data": {
      "text/html": [
       "<div>\n",
       "<style scoped>\n",
       "    .dataframe tbody tr th:only-of-type {\n",
       "        vertical-align: middle;\n",
       "    }\n",
       "\n",
       "    .dataframe tbody tr th {\n",
       "        vertical-align: top;\n",
       "    }\n",
       "\n",
       "    .dataframe thead th {\n",
       "        text-align: right;\n",
       "    }\n",
       "</style>\n",
       "<table border=\"1\" class=\"dataframe\">\n",
       "  <thead>\n",
       "    <tr style=\"text-align: right;\">\n",
       "      <th></th>\n",
       "      <th>fare_amount</th>\n",
       "      <th>pickup_longitude</th>\n",
       "      <th>pickup_latitude</th>\n",
       "      <th>dropoff_longitude</th>\n",
       "      <th>dropoff_latitude</th>\n",
       "      <th>passenger_count</th>\n",
       "    </tr>\n",
       "  </thead>\n",
       "  <tbody>\n",
       "    <tr>\n",
       "      <th>count</th>\n",
       "      <td>553888.000000</td>\n",
       "      <td>553888.000000</td>\n",
       "      <td>553888.000000</td>\n",
       "      <td>553884.000000</td>\n",
       "      <td>553884.000000</td>\n",
       "      <td>553888.000000</td>\n",
       "    </tr>\n",
       "    <tr>\n",
       "      <th>mean</th>\n",
       "      <td>11.325466</td>\n",
       "      <td>-72.539418</td>\n",
       "      <td>39.910143</td>\n",
       "      <td>-72.531035</td>\n",
       "      <td>39.897806</td>\n",
       "      <td>1.687171</td>\n",
       "    </tr>\n",
       "    <tr>\n",
       "      <th>std</th>\n",
       "      <td>9.752500</td>\n",
       "      <td>15.121063</td>\n",
       "      <td>8.770774</td>\n",
       "      <td>13.238080</td>\n",
       "      <td>8.959665</td>\n",
       "      <td>1.339930</td>\n",
       "    </tr>\n",
       "    <tr>\n",
       "      <th>min</th>\n",
       "      <td>-52.000000</td>\n",
       "      <td>-3442.059600</td>\n",
       "      <td>-2145.906000</td>\n",
       "      <td>-3370.710400</td>\n",
       "      <td>-2530.357400</td>\n",
       "      <td>0.000000</td>\n",
       "    </tr>\n",
       "    <tr>\n",
       "      <th>25%</th>\n",
       "      <td>6.000000</td>\n",
       "      <td>-73.992080</td>\n",
       "      <td>40.734910</td>\n",
       "      <td>-73.991380</td>\n",
       "      <td>40.733974</td>\n",
       "      <td>1.000000</td>\n",
       "    </tr>\n",
       "    <tr>\n",
       "      <th>50%</th>\n",
       "      <td>8.500000</td>\n",
       "      <td>-73.981804</td>\n",
       "      <td>40.752660</td>\n",
       "      <td>-73.980110</td>\n",
       "      <td>40.753166</td>\n",
       "      <td>1.000000</td>\n",
       "    </tr>\n",
       "    <tr>\n",
       "      <th>75%</th>\n",
       "      <td>12.500000</td>\n",
       "      <td>-73.967090</td>\n",
       "      <td>40.767143</td>\n",
       "      <td>-73.963680</td>\n",
       "      <td>40.768140</td>\n",
       "      <td>2.000000</td>\n",
       "    </tr>\n",
       "    <tr>\n",
       "      <th>max</th>\n",
       "      <td>444.440000</td>\n",
       "      <td>40.813038</td>\n",
       "      <td>3334.677700</td>\n",
       "      <td>40.827824</td>\n",
       "      <td>458.650000</td>\n",
       "      <td>208.000000</td>\n",
       "    </tr>\n",
       "  </tbody>\n",
       "</table>\n",
       "</div>"
      ],
      "text/plain": [
       "         fare_amount  pickup_longitude  pickup_latitude  dropoff_longitude  \\\n",
       "count  553888.000000     553888.000000    553888.000000      553884.000000   \n",
       "mean       11.325466        -72.539418        39.910143         -72.531035   \n",
       "std         9.752500         15.121063         8.770774          13.238080   \n",
       "min       -52.000000      -3442.059600     -2145.906000       -3370.710400   \n",
       "25%         6.000000        -73.992080        40.734910         -73.991380   \n",
       "50%         8.500000        -73.981804        40.752660         -73.980110   \n",
       "75%        12.500000        -73.967090        40.767143         -73.963680   \n",
       "max       444.440000         40.813038      3334.677700          40.827824   \n",
       "\n",
       "       dropoff_latitude  passenger_count  \n",
       "count     553884.000000    553888.000000  \n",
       "mean          39.897806         1.687171  \n",
       "std            8.959665         1.339930  \n",
       "min        -2530.357400         0.000000  \n",
       "25%           40.733974         1.000000  \n",
       "50%           40.753166         1.000000  \n",
       "75%           40.768140         2.000000  \n",
       "max          458.650000       208.000000  "
      ]
     },
     "execution_count": 20,
     "metadata": {},
     "output_type": "execute_result"
    }
   ],
   "source": [
    "data_train.describe()"
   ]
  },
  {
   "cell_type": "code",
   "execution_count": null,
   "id": "394ec698",
   "metadata": {},
   "outputs": [],
   "source": []
  },
  {
   "cell_type": "code",
   "execution_count": 21,
   "id": "207654a4",
   "metadata": {},
   "outputs": [
    {
     "data": {
      "text/plain": [
       "(Timestamp('2009-01-01 00:04:54+0000', tz='UTC'),\n",
       " Timestamp('2015-06-30 23:56:42+0000', tz='UTC'))"
      ]
     },
     "execution_count": 21,
     "metadata": {},
     "output_type": "execute_result"
    }
   ],
   "source": [
    "data_train['pickup_datetime'].min(), data_train['pickup_datetime'].max()"
   ]
  },
  {
   "cell_type": "code",
   "execution_count": null,
   "id": "bb0ea417",
   "metadata": {},
   "outputs": [],
   "source": []
  },
  {
   "cell_type": "code",
   "execution_count": 22,
   "id": "81c0a55c",
   "metadata": {},
   "outputs": [
    {
     "name": "stdout",
     "output_type": "stream",
     "text": [
      "<class 'pandas.core.frame.DataFrame'>\n",
      "RangeIndex: 9914 entries, 0 to 9913\n",
      "Data columns (total 7 columns):\n",
      " #   Column             Non-Null Count  Dtype              \n",
      "---  ------             --------------  -----              \n",
      " 0   key                9914 non-null   object             \n",
      " 1   pickup_datetime    9914 non-null   datetime64[ns, UTC]\n",
      " 2   pickup_longitude   9914 non-null   float32            \n",
      " 3   pickup_latitude    9914 non-null   float32            \n",
      " 4   dropoff_longitude  9914 non-null   float32            \n",
      " 5   dropoff_latitude   9914 non-null   float32            \n",
      " 6   passenger_count    9914 non-null   uint8              \n",
      "dtypes: datetime64[ns, UTC](1), float32(4), object(1), uint8(1)\n",
      "memory usage: 319.6+ KB\n"
     ]
    }
   ],
   "source": [
    "data_test.info()"
   ]
  },
  {
   "cell_type": "code",
   "execution_count": 23,
   "id": "7e3da7d4",
   "metadata": {},
   "outputs": [
    {
     "data": {
      "text/html": [
       "<div>\n",
       "<style scoped>\n",
       "    .dataframe tbody tr th:only-of-type {\n",
       "        vertical-align: middle;\n",
       "    }\n",
       "\n",
       "    .dataframe tbody tr th {\n",
       "        vertical-align: top;\n",
       "    }\n",
       "\n",
       "    .dataframe thead th {\n",
       "        text-align: right;\n",
       "    }\n",
       "</style>\n",
       "<table border=\"1\" class=\"dataframe\">\n",
       "  <thead>\n",
       "    <tr style=\"text-align: right;\">\n",
       "      <th></th>\n",
       "      <th>pickup_longitude</th>\n",
       "      <th>pickup_latitude</th>\n",
       "      <th>dropoff_longitude</th>\n",
       "      <th>dropoff_latitude</th>\n",
       "      <th>passenger_count</th>\n",
       "    </tr>\n",
       "  </thead>\n",
       "  <tbody>\n",
       "    <tr>\n",
       "      <th>count</th>\n",
       "      <td>9914.000000</td>\n",
       "      <td>9914.000000</td>\n",
       "      <td>9914.000000</td>\n",
       "      <td>9914.000000</td>\n",
       "      <td>9914.000000</td>\n",
       "    </tr>\n",
       "    <tr>\n",
       "      <th>mean</th>\n",
       "      <td>-73.976181</td>\n",
       "      <td>40.750954</td>\n",
       "      <td>-73.974945</td>\n",
       "      <td>40.751553</td>\n",
       "      <td>1.671273</td>\n",
       "    </tr>\n",
       "    <tr>\n",
       "      <th>std</th>\n",
       "      <td>0.042799</td>\n",
       "      <td>0.033542</td>\n",
       "      <td>0.039093</td>\n",
       "      <td>0.035436</td>\n",
       "      <td>1.278747</td>\n",
       "    </tr>\n",
       "    <tr>\n",
       "      <th>min</th>\n",
       "      <td>-74.252190</td>\n",
       "      <td>40.573143</td>\n",
       "      <td>-74.263245</td>\n",
       "      <td>40.568974</td>\n",
       "      <td>1.000000</td>\n",
       "    </tr>\n",
       "    <tr>\n",
       "      <th>25%</th>\n",
       "      <td>-73.992500</td>\n",
       "      <td>40.736125</td>\n",
       "      <td>-73.991249</td>\n",
       "      <td>40.735253</td>\n",
       "      <td>1.000000</td>\n",
       "    </tr>\n",
       "    <tr>\n",
       "      <th>50%</th>\n",
       "      <td>-73.982327</td>\n",
       "      <td>40.753052</td>\n",
       "      <td>-73.980015</td>\n",
       "      <td>40.754065</td>\n",
       "      <td>1.000000</td>\n",
       "    </tr>\n",
       "    <tr>\n",
       "      <th>75%</th>\n",
       "      <td>-73.968012</td>\n",
       "      <td>40.767113</td>\n",
       "      <td>-73.964062</td>\n",
       "      <td>40.768757</td>\n",
       "      <td>2.000000</td>\n",
       "    </tr>\n",
       "    <tr>\n",
       "      <th>max</th>\n",
       "      <td>-72.986534</td>\n",
       "      <td>41.709557</td>\n",
       "      <td>-72.990967</td>\n",
       "      <td>41.696682</td>\n",
       "      <td>6.000000</td>\n",
       "    </tr>\n",
       "  </tbody>\n",
       "</table>\n",
       "</div>"
      ],
      "text/plain": [
       "       pickup_longitude  pickup_latitude  dropoff_longitude  dropoff_latitude  \\\n",
       "count       9914.000000      9914.000000        9914.000000       9914.000000   \n",
       "mean         -73.976181        40.750954         -73.974945         40.751553   \n",
       "std            0.042799         0.033542           0.039093          0.035436   \n",
       "min          -74.252190        40.573143         -74.263245         40.568974   \n",
       "25%          -73.992500        40.736125         -73.991249         40.735253   \n",
       "50%          -73.982327        40.753052         -73.980015         40.754065   \n",
       "75%          -73.968012        40.767113         -73.964062         40.768757   \n",
       "max          -72.986534        41.709557         -72.990967         41.696682   \n",
       "\n",
       "       passenger_count  \n",
       "count      9914.000000  \n",
       "mean          1.671273  \n",
       "std           1.278747  \n",
       "min           1.000000  \n",
       "25%           1.000000  \n",
       "50%           1.000000  \n",
       "75%           2.000000  \n",
       "max           6.000000  "
      ]
     },
     "execution_count": 23,
     "metadata": {},
     "output_type": "execute_result"
    }
   ],
   "source": [
    "data_test.describe()"
   ]
  },
  {
   "cell_type": "code",
   "execution_count": 24,
   "id": "bc519819",
   "metadata": {},
   "outputs": [
    {
     "data": {
      "text/plain": [
       "(Timestamp('2009-01-01 11:04:24+0000', tz='UTC'),\n",
       " Timestamp('2015-06-30 20:03:50+0000', tz='UTC'))"
      ]
     },
     "execution_count": 24,
     "metadata": {},
     "output_type": "execute_result"
    }
   ],
   "source": [
    "data_test['pickup_datetime'].min(),data_test['pickup_datetime'].max()"
   ]
  },
  {
   "cell_type": "code",
   "execution_count": 25,
   "id": "d87efef8",
   "metadata": {},
   "outputs": [
    {
     "data": {
      "text/plain": [
       "datetime64[ns, UTC]"
      ]
     },
     "execution_count": 25,
     "metadata": {},
     "output_type": "execute_result"
    }
   ],
   "source": [
    "data_test['pickup_datetime'].dtype"
   ]
  },
  {
   "cell_type": "code",
   "execution_count": null,
   "id": "aa69ab3c",
   "metadata": {},
   "outputs": [],
   "source": []
  },
  {
   "cell_type": "code",
   "execution_count": null,
   "id": "8d953469",
   "metadata": {},
   "outputs": [],
   "source": []
  },
  {
   "cell_type": "markdown",
   "id": "926b0ad2",
   "metadata": {},
   "source": [
    "# splitting the data as training set and validation set"
   ]
  },
  {
   "cell_type": "code",
   "execution_count": 26,
   "id": "8e93d70f",
   "metadata": {},
   "outputs": [],
   "source": [
    "from sklearn.model_selection import train_test_split"
   ]
  },
  {
   "cell_type": "code",
   "execution_count": 27,
   "id": "245dd32a",
   "metadata": {},
   "outputs": [],
   "source": [
    "train_df,val_df = train_test_split(data_train,test_size=0.2,random_state=42)"
   ]
  },
  {
   "cell_type": "code",
   "execution_count": 28,
   "id": "816353fa",
   "metadata": {},
   "outputs": [
    {
     "data": {
      "text/plain": [
       "(443110, 110778)"
      ]
     },
     "execution_count": 28,
     "metadata": {},
     "output_type": "execute_result"
    }
   ],
   "source": [
    "len(train_df),len(val_df)"
   ]
  },
  {
   "cell_type": "code",
   "execution_count": 29,
   "id": "02a5c6ea",
   "metadata": {},
   "outputs": [
    {
     "data": {
      "text/html": [
       "<div>\n",
       "<style scoped>\n",
       "    .dataframe tbody tr th:only-of-type {\n",
       "        vertical-align: middle;\n",
       "    }\n",
       "\n",
       "    .dataframe tbody tr th {\n",
       "        vertical-align: top;\n",
       "    }\n",
       "\n",
       "    .dataframe thead th {\n",
       "        text-align: right;\n",
       "    }\n",
       "</style>\n",
       "<table border=\"1\" class=\"dataframe\">\n",
       "  <thead>\n",
       "    <tr style=\"text-align: right;\">\n",
       "      <th></th>\n",
       "      <th>fare_amount</th>\n",
       "      <th>pickup_datetime</th>\n",
       "      <th>pickup_longitude</th>\n",
       "      <th>pickup_latitude</th>\n",
       "      <th>dropoff_longitude</th>\n",
       "      <th>dropoff_latitude</th>\n",
       "      <th>passenger_count</th>\n",
       "    </tr>\n",
       "  </thead>\n",
       "  <tbody>\n",
       "    <tr>\n",
       "      <th>159962</th>\n",
       "      <td>10.0</td>\n",
       "      <td>2012-12-19 19:08:00+00:00</td>\n",
       "      <td>-73.980760</td>\n",
       "      <td>40.769620</td>\n",
       "      <td>-73.959650</td>\n",
       "      <td>40.776943</td>\n",
       "      <td>1</td>\n",
       "    </tr>\n",
       "    <tr>\n",
       "      <th>239519</th>\n",
       "      <td>5.7</td>\n",
       "      <td>2009-06-15 20:20:00+00:00</td>\n",
       "      <td>-73.984960</td>\n",
       "      <td>40.751000</td>\n",
       "      <td>-73.990456</td>\n",
       "      <td>40.760868</td>\n",
       "      <td>2</td>\n",
       "    </tr>\n",
       "    <tr>\n",
       "      <th>55333</th>\n",
       "      <td>8.0</td>\n",
       "      <td>2013-07-02 09:39:00+00:00</td>\n",
       "      <td>-73.958760</td>\n",
       "      <td>40.780870</td>\n",
       "      <td>-73.980430</td>\n",
       "      <td>40.773212</td>\n",
       "      <td>1</td>\n",
       "    </tr>\n",
       "    <tr>\n",
       "      <th>21154</th>\n",
       "      <td>19.3</td>\n",
       "      <td>2011-01-11 19:17:42+00:00</td>\n",
       "      <td>-73.959236</td>\n",
       "      <td>40.763165</td>\n",
       "      <td>-74.010830</td>\n",
       "      <td>40.718720</td>\n",
       "      <td>1</td>\n",
       "    </tr>\n",
       "    <tr>\n",
       "      <th>257163</th>\n",
       "      <td>6.5</td>\n",
       "      <td>2014-03-06 18:14:00+00:00</td>\n",
       "      <td>-74.010980</td>\n",
       "      <td>40.716526</td>\n",
       "      <td>-74.007790</td>\n",
       "      <td>40.732048</td>\n",
       "      <td>1</td>\n",
       "    </tr>\n",
       "    <tr>\n",
       "      <th>...</th>\n",
       "      <td>...</td>\n",
       "      <td>...</td>\n",
       "      <td>...</td>\n",
       "      <td>...</td>\n",
       "      <td>...</td>\n",
       "      <td>...</td>\n",
       "      <td>...</td>\n",
       "    </tr>\n",
       "    <tr>\n",
       "      <th>110268</th>\n",
       "      <td>9.7</td>\n",
       "      <td>2011-10-21 13:43:00+00:00</td>\n",
       "      <td>-73.987150</td>\n",
       "      <td>40.740574</td>\n",
       "      <td>-74.001510</td>\n",
       "      <td>40.720050</td>\n",
       "      <td>2</td>\n",
       "    </tr>\n",
       "    <tr>\n",
       "      <th>259178</th>\n",
       "      <td>4.5</td>\n",
       "      <td>2011-01-15 07:27:50+00:00</td>\n",
       "      <td>-73.991050</td>\n",
       "      <td>40.750957</td>\n",
       "      <td>-73.983090</td>\n",
       "      <td>40.756523</td>\n",
       "      <td>1</td>\n",
       "    </tr>\n",
       "    <tr>\n",
       "      <th>365838</th>\n",
       "      <td>5.0</td>\n",
       "      <td>2015-06-15 07:51:32+00:00</td>\n",
       "      <td>-73.971390</td>\n",
       "      <td>40.766884</td>\n",
       "      <td>-73.977684</td>\n",
       "      <td>40.758200</td>\n",
       "      <td>1</td>\n",
       "    </tr>\n",
       "    <tr>\n",
       "      <th>131932</th>\n",
       "      <td>6.9</td>\n",
       "      <td>2012-01-24 19:01:00+00:00</td>\n",
       "      <td>-73.975750</td>\n",
       "      <td>40.751260</td>\n",
       "      <td>-73.999405</td>\n",
       "      <td>40.761060</td>\n",
       "      <td>1</td>\n",
       "    </tr>\n",
       "    <tr>\n",
       "      <th>121958</th>\n",
       "      <td>7.3</td>\n",
       "      <td>2009-10-23 17:44:29+00:00</td>\n",
       "      <td>-73.959360</td>\n",
       "      <td>40.771584</td>\n",
       "      <td>-73.967080</td>\n",
       "      <td>40.758846</td>\n",
       "      <td>1</td>\n",
       "    </tr>\n",
       "  </tbody>\n",
       "</table>\n",
       "<p>443110 rows × 7 columns</p>\n",
       "</div>"
      ],
      "text/plain": [
       "        fare_amount           pickup_datetime  pickup_longitude  \\\n",
       "159962         10.0 2012-12-19 19:08:00+00:00        -73.980760   \n",
       "239519          5.7 2009-06-15 20:20:00+00:00        -73.984960   \n",
       "55333           8.0 2013-07-02 09:39:00+00:00        -73.958760   \n",
       "21154          19.3 2011-01-11 19:17:42+00:00        -73.959236   \n",
       "257163          6.5 2014-03-06 18:14:00+00:00        -74.010980   \n",
       "...             ...                       ...               ...   \n",
       "110268          9.7 2011-10-21 13:43:00+00:00        -73.987150   \n",
       "259178          4.5 2011-01-15 07:27:50+00:00        -73.991050   \n",
       "365838          5.0 2015-06-15 07:51:32+00:00        -73.971390   \n",
       "131932          6.9 2012-01-24 19:01:00+00:00        -73.975750   \n",
       "121958          7.3 2009-10-23 17:44:29+00:00        -73.959360   \n",
       "\n",
       "        pickup_latitude  dropoff_longitude  dropoff_latitude  passenger_count  \n",
       "159962        40.769620         -73.959650         40.776943                1  \n",
       "239519        40.751000         -73.990456         40.760868                2  \n",
       "55333         40.780870         -73.980430         40.773212                1  \n",
       "21154         40.763165         -74.010830         40.718720                1  \n",
       "257163        40.716526         -74.007790         40.732048                1  \n",
       "...                 ...                ...               ...              ...  \n",
       "110268        40.740574         -74.001510         40.720050                2  \n",
       "259178        40.750957         -73.983090         40.756523                1  \n",
       "365838        40.766884         -73.977684         40.758200                1  \n",
       "131932        40.751260         -73.999405         40.761060                1  \n",
       "121958        40.771584         -73.967080         40.758846                1  \n",
       "\n",
       "[443110 rows x 7 columns]"
      ]
     },
     "execution_count": 29,
     "metadata": {},
     "output_type": "execute_result"
    }
   ],
   "source": [
    "train_df"
   ]
  },
  {
   "cell_type": "code",
   "execution_count": 30,
   "id": "e6db2f03",
   "metadata": {},
   "outputs": [
    {
     "data": {
      "text/plain": [
       "datetime64[ns, UTC]"
      ]
     },
     "execution_count": 30,
     "metadata": {},
     "output_type": "execute_result"
    }
   ],
   "source": [
    "train_df['pickup_datetime'].dtype"
   ]
  },
  {
   "cell_type": "code",
   "execution_count": 31,
   "id": "800f18f1",
   "metadata": {},
   "outputs": [],
   "source": [
    "# dropping the nan values(tho no nan is presenrt here)"
   ]
  },
  {
   "cell_type": "code",
   "execution_count": 32,
   "id": "80131683",
   "metadata": {},
   "outputs": [],
   "source": [
    "train_df = train_df.dropna()\n",
    "val_df = val_df.dropna()"
   ]
  },
  {
   "cell_type": "code",
   "execution_count": 33,
   "id": "bc326290",
   "metadata": {},
   "outputs": [
    {
     "data": {
      "text/plain": [
       "(443107, 110777)"
      ]
     },
     "execution_count": 33,
     "metadata": {},
     "output_type": "execute_result"
    }
   ],
   "source": [
    "len(train_df),len(val_df)"
   ]
  },
  {
   "cell_type": "code",
   "execution_count": null,
   "id": "4c8e2f05",
   "metadata": {},
   "outputs": [],
   "source": []
  },
  {
   "cell_type": "markdown",
   "id": "1cdd70dd",
   "metadata": {},
   "source": [
    "# extracting input and output"
   ]
  },
  {
   "cell_type": "code",
   "execution_count": 34,
   "id": "da2bfc80",
   "metadata": {},
   "outputs": [],
   "source": [
    "# for training set"
   ]
  },
  {
   "cell_type": "code",
   "execution_count": 35,
   "id": "c6c0a4b0",
   "metadata": {},
   "outputs": [
    {
     "data": {
      "text/plain": [
       "Index(['fare_amount', 'pickup_datetime', 'pickup_longitude', 'pickup_latitude',\n",
       "       'dropoff_longitude', 'dropoff_latitude', 'passenger_count'],\n",
       "      dtype='object')"
      ]
     },
     "execution_count": 35,
     "metadata": {},
     "output_type": "execute_result"
    }
   ],
   "source": [
    "train_df.columns"
   ]
  },
  {
   "cell_type": "code",
   "execution_count": 36,
   "id": "de8a2dcc",
   "metadata": {},
   "outputs": [],
   "source": [
    "input_cols = ['pickup_longitude', 'pickup_latitude','dropoff_longitude', 'dropoff_latitude', 'passenger_count']\n",
    "target_col = ['fare_amount']"
   ]
  },
  {
   "cell_type": "code",
   "execution_count": 37,
   "id": "18003fbb",
   "metadata": {},
   "outputs": [],
   "source": [
    "train_inputs = train_df[input_cols]\n",
    "train_targets = train_df[target_col]"
   ]
  },
  {
   "cell_type": "code",
   "execution_count": 38,
   "id": "656374d6",
   "metadata": {},
   "outputs": [
    {
     "name": "stdout",
     "output_type": "stream",
     "text": [
      "<class 'pandas.core.frame.DataFrame'>\n",
      "Int64Index: 443107 entries, 159962 to 121958\n",
      "Data columns (total 5 columns):\n",
      " #   Column             Non-Null Count   Dtype  \n",
      "---  ------             --------------   -----  \n",
      " 0   pickup_longitude   443107 non-null  float64\n",
      " 1   pickup_latitude    443107 non-null  float64\n",
      " 2   dropoff_longitude  443107 non-null  float64\n",
      " 3   dropoff_latitude   443107 non-null  float64\n",
      " 4   passenger_count    443107 non-null  int64  \n",
      "dtypes: float64(4), int64(1)\n",
      "memory usage: 20.3 MB\n"
     ]
    }
   ],
   "source": [
    "train_inputs.info()"
   ]
  },
  {
   "cell_type": "code",
   "execution_count": null,
   "id": "08158341",
   "metadata": {},
   "outputs": [],
   "source": []
  },
  {
   "cell_type": "code",
   "execution_count": 39,
   "id": "3a5c97ed",
   "metadata": {},
   "outputs": [
    {
     "name": "stdout",
     "output_type": "stream",
     "text": [
      "<class 'pandas.core.frame.DataFrame'>\n",
      "Int64Index: 443107 entries, 159962 to 121958\n",
      "Data columns (total 1 columns):\n",
      " #   Column       Non-Null Count   Dtype  \n",
      "---  ------       --------------   -----  \n",
      " 0   fare_amount  443107 non-null  float64\n",
      "dtypes: float64(1)\n",
      "memory usage: 6.8 MB\n"
     ]
    }
   ],
   "source": [
    "train_targets.info()"
   ]
  },
  {
   "cell_type": "code",
   "execution_count": 40,
   "id": "ebcaae2a",
   "metadata": {},
   "outputs": [],
   "source": [
    "# for validation set"
   ]
  },
  {
   "cell_type": "code",
   "execution_count": 41,
   "id": "ff7140f6",
   "metadata": {},
   "outputs": [],
   "source": [
    "val_inputs = val_df[input_cols]\n",
    "val_targets = val_df[target_col]"
   ]
  },
  {
   "cell_type": "code",
   "execution_count": 42,
   "id": "9f13e254",
   "metadata": {},
   "outputs": [],
   "source": [
    "# for test set"
   ]
  },
  {
   "cell_type": "code",
   "execution_count": 43,
   "id": "bcace7d0",
   "metadata": {},
   "outputs": [],
   "source": [
    "test_inputs = data_test[input_cols]"
   ]
  },
  {
   "cell_type": "code",
   "execution_count": null,
   "id": "64e1a07a",
   "metadata": {},
   "outputs": [],
   "source": []
  },
  {
   "cell_type": "code",
   "execution_count": null,
   "id": "9718e5a5",
   "metadata": {},
   "outputs": [],
   "source": [
    " "
   ]
  },
  {
   "cell_type": "markdown",
   "id": "a7a22e58",
   "metadata": {},
   "source": [
    "# training with hardcoded and baseline model"
   ]
  },
  {
   "cell_type": "markdown",
   "id": "b5da7305",
   "metadata": {},
   "source": [
    "# hardcoded model"
   ]
  },
  {
   "cell_type": "code",
   "execution_count": 44,
   "id": "d179a3d5",
   "metadata": {},
   "outputs": [],
   "source": [
    "class meanregressor():\n",
    "    def fit(self,inputs,target):\n",
    "        self.mean = target.mean()\n",
    "    def avg(self):\n",
    "        return self.mean\n",
    "        \n",
    "    def predict(self,inputs):\n",
    "        return np.full(inputs.shape[0],self.mean)"
   ]
  },
  {
   "cell_type": "code",
   "execution_count": 45,
   "id": "30c2e642",
   "metadata": {},
   "outputs": [],
   "source": [
    "mean_model = meanregressor()"
   ]
  },
  {
   "cell_type": "code",
   "execution_count": 46,
   "id": "25cb31eb",
   "metadata": {},
   "outputs": [],
   "source": [
    "mean_model.fit(train_inputs,train_targets)"
   ]
  },
  {
   "cell_type": "code",
   "execution_count": 47,
   "id": "6582eec6",
   "metadata": {},
   "outputs": [
    {
     "data": {
      "text/plain": [
       "fare_amount    11.327012\n",
       "dtype: float64"
      ]
     },
     "execution_count": 47,
     "metadata": {},
     "output_type": "execute_result"
    }
   ],
   "source": [
    "mean_model.avg()"
   ]
  },
  {
   "cell_type": "code",
   "execution_count": null,
   "id": "2e643e06",
   "metadata": {},
   "outputs": [],
   "source": []
  },
  {
   "cell_type": "code",
   "execution_count": 48,
   "id": "f24e1ff8",
   "metadata": {},
   "outputs": [],
   "source": [
    "train_pred = mean_model.predict(train_inputs)"
   ]
  },
  {
   "cell_type": "code",
   "execution_count": 49,
   "id": "90752612",
   "metadata": {},
   "outputs": [
    {
     "data": {
      "text/plain": [
       "array([11.32701226, 11.32701226, 11.32701226, ..., 11.32701226,\n",
       "       11.32701226, 11.32701226])"
      ]
     },
     "execution_count": 49,
     "metadata": {},
     "output_type": "execute_result"
    }
   ],
   "source": [
    "train_pred"
   ]
  },
  {
   "cell_type": "code",
   "execution_count": 50,
   "id": "a14f2d06",
   "metadata": {},
   "outputs": [],
   "source": [
    "val_pred = mean_model.predict(val_inputs)"
   ]
  },
  {
   "cell_type": "code",
   "execution_count": 51,
   "id": "b6ab3c2a",
   "metadata": {},
   "outputs": [
    {
     "data": {
      "text/plain": [
       "array([11.32701226, 11.32701226, 11.32701226, ..., 11.32701226,\n",
       "       11.32701226, 11.32701226])"
      ]
     },
     "execution_count": 51,
     "metadata": {},
     "output_type": "execute_result"
    }
   ],
   "source": [
    "val_pred"
   ]
  },
  {
   "cell_type": "code",
   "execution_count": 52,
   "id": "c173a672",
   "metadata": {},
   "outputs": [
    {
     "data": {
      "text/html": [
       "<div>\n",
       "<style scoped>\n",
       "    .dataframe tbody tr th:only-of-type {\n",
       "        vertical-align: middle;\n",
       "    }\n",
       "\n",
       "    .dataframe tbody tr th {\n",
       "        vertical-align: top;\n",
       "    }\n",
       "\n",
       "    .dataframe thead th {\n",
       "        text-align: right;\n",
       "    }\n",
       "</style>\n",
       "<table border=\"1\" class=\"dataframe\">\n",
       "  <thead>\n",
       "    <tr style=\"text-align: right;\">\n",
       "      <th></th>\n",
       "      <th>fare_amount</th>\n",
       "    </tr>\n",
       "  </thead>\n",
       "  <tbody>\n",
       "    <tr>\n",
       "      <th>159962</th>\n",
       "      <td>10.0</td>\n",
       "    </tr>\n",
       "    <tr>\n",
       "      <th>239519</th>\n",
       "      <td>5.7</td>\n",
       "    </tr>\n",
       "    <tr>\n",
       "      <th>55333</th>\n",
       "      <td>8.0</td>\n",
       "    </tr>\n",
       "    <tr>\n",
       "      <th>21154</th>\n",
       "      <td>19.3</td>\n",
       "    </tr>\n",
       "    <tr>\n",
       "      <th>257163</th>\n",
       "      <td>6.5</td>\n",
       "    </tr>\n",
       "    <tr>\n",
       "      <th>...</th>\n",
       "      <td>...</td>\n",
       "    </tr>\n",
       "    <tr>\n",
       "      <th>110268</th>\n",
       "      <td>9.7</td>\n",
       "    </tr>\n",
       "    <tr>\n",
       "      <th>259178</th>\n",
       "      <td>4.5</td>\n",
       "    </tr>\n",
       "    <tr>\n",
       "      <th>365838</th>\n",
       "      <td>5.0</td>\n",
       "    </tr>\n",
       "    <tr>\n",
       "      <th>131932</th>\n",
       "      <td>6.9</td>\n",
       "    </tr>\n",
       "    <tr>\n",
       "      <th>121958</th>\n",
       "      <td>7.3</td>\n",
       "    </tr>\n",
       "  </tbody>\n",
       "</table>\n",
       "<p>443107 rows × 1 columns</p>\n",
       "</div>"
      ],
      "text/plain": [
       "        fare_amount\n",
       "159962         10.0\n",
       "239519          5.7\n",
       "55333           8.0\n",
       "21154          19.3\n",
       "257163          6.5\n",
       "...             ...\n",
       "110268          9.7\n",
       "259178          4.5\n",
       "365838          5.0\n",
       "131932          6.9\n",
       "121958          7.3\n",
       "\n",
       "[443107 rows x 1 columns]"
      ]
     },
     "execution_count": 52,
     "metadata": {},
     "output_type": "execute_result"
    }
   ],
   "source": [
    "train_targets"
   ]
  },
  {
   "cell_type": "code",
   "execution_count": 53,
   "id": "f3645a1f",
   "metadata": {},
   "outputs": [],
   "source": [
    "# mean squared error(RMSE)"
   ]
  },
  {
   "cell_type": "code",
   "execution_count": 54,
   "id": "7529e47b",
   "metadata": {},
   "outputs": [],
   "source": [
    "from sklearn.metrics import mean_squared_error"
   ]
  },
  {
   "cell_type": "code",
   "execution_count": 55,
   "id": "6b016cd7",
   "metadata": {},
   "outputs": [],
   "source": [
    "def rmse(targets,preds):\n",
    "    return mean_squared_error(targets,preds,squared=False)"
   ]
  },
  {
   "cell_type": "code",
   "execution_count": 56,
   "id": "64c872dc",
   "metadata": {},
   "outputs": [],
   "source": [
    "train_rmse = rmse(train_targets,train_pred)"
   ]
  },
  {
   "cell_type": "code",
   "execution_count": 57,
   "id": "671d0e25",
   "metadata": {},
   "outputs": [
    {
     "data": {
      "text/plain": [
       "9.749803737036641"
      ]
     },
     "execution_count": 57,
     "metadata": {},
     "output_type": "execute_result"
    }
   ],
   "source": [
    "train_rmse"
   ]
  },
  {
   "cell_type": "code",
   "execution_count": 58,
   "id": "8ee6c7ba",
   "metadata": {},
   "outputs": [],
   "source": [
    "val_rmse = rmse(val_targets,val_pred)"
   ]
  },
  {
   "cell_type": "code",
   "execution_count": 59,
   "id": "ced3b5d9",
   "metadata": {},
   "outputs": [
    {
     "data": {
      "text/plain": [
       "9.763386431234919"
      ]
     },
     "execution_count": 59,
     "metadata": {},
     "output_type": "execute_result"
    }
   ],
   "source": [
    "val_rmse"
   ]
  },
  {
   "cell_type": "markdown",
   "id": "91eff15a",
   "metadata": {},
   "source": [
    "# Baseline model"
   ]
  },
  {
   "cell_type": "code",
   "execution_count": 60,
   "id": "78006acf",
   "metadata": {},
   "outputs": [],
   "source": [
    "#linear Regression"
   ]
  },
  {
   "cell_type": "code",
   "execution_count": null,
   "id": "df8abbd1",
   "metadata": {},
   "outputs": [],
   "source": []
  },
  {
   "cell_type": "code",
   "execution_count": 61,
   "id": "5f508d94",
   "metadata": {},
   "outputs": [],
   "source": [
    "from sklearn.linear_model import LinearRegression"
   ]
  },
  {
   "cell_type": "code",
   "execution_count": 62,
   "id": "e6d7449d",
   "metadata": {},
   "outputs": [],
   "source": [
    "linear_model = LinearRegression()"
   ]
  },
  {
   "cell_type": "code",
   "execution_count": 63,
   "id": "2c4af601",
   "metadata": {},
   "outputs": [
    {
     "data": {
      "text/plain": [
       "LinearRegression()"
      ]
     },
     "execution_count": 63,
     "metadata": {},
     "output_type": "execute_result"
    }
   ],
   "source": [
    "linear_model.fit(train_inputs,train_targets)"
   ]
  },
  {
   "cell_type": "code",
   "execution_count": 64,
   "id": "ae56d7bc",
   "metadata": {},
   "outputs": [],
   "source": [
    "train_pred = linear_model.predict(train_inputs)"
   ]
  },
  {
   "cell_type": "code",
   "execution_count": 65,
   "id": "63515375",
   "metadata": {},
   "outputs": [
    {
     "data": {
      "text/plain": [
       "array([[11.24489171],\n",
       "       [11.34532071],\n",
       "       [11.24513369],\n",
       "       ...,\n",
       "       [11.245132  ],\n",
       "       [11.24487783],\n",
       "       [11.24525045]])"
      ]
     },
     "execution_count": 65,
     "metadata": {},
     "output_type": "execute_result"
    }
   ],
   "source": [
    "train_pred"
   ]
  },
  {
   "cell_type": "code",
   "execution_count": 66,
   "id": "da345371",
   "metadata": {},
   "outputs": [],
   "source": [
    "train_rmse = rmse(train_targets,train_pred)"
   ]
  },
  {
   "cell_type": "code",
   "execution_count": 67,
   "id": "e3e5f018",
   "metadata": {},
   "outputs": [
    {
     "data": {
      "text/plain": [
       "9.748035038134221"
      ]
     },
     "execution_count": 67,
     "metadata": {},
     "output_type": "execute_result"
    }
   ],
   "source": [
    "train_rmse"
   ]
  },
  {
   "cell_type": "code",
   "execution_count": 68,
   "id": "550d94f3",
   "metadata": {},
   "outputs": [],
   "source": [
    "val_pred = linear_model.predict(val_inputs)"
   ]
  },
  {
   "cell_type": "code",
   "execution_count": 69,
   "id": "8a330e22",
   "metadata": {},
   "outputs": [
    {
     "data": {
      "text/plain": [
       "array([[11.34547536],\n",
       "       [11.24451864],\n",
       "       [11.24501106],\n",
       "       ...,\n",
       "       [11.24554204],\n",
       "       [11.98187264],\n",
       "       [11.24472245]])"
      ]
     },
     "execution_count": 69,
     "metadata": {},
     "output_type": "execute_result"
    }
   ],
   "source": [
    "val_pred"
   ]
  },
  {
   "cell_type": "code",
   "execution_count": 70,
   "id": "e1cc4b57",
   "metadata": {},
   "outputs": [],
   "source": [
    "val_rmse = rmse(val_targets,val_pred)"
   ]
  },
  {
   "cell_type": "code",
   "execution_count": 71,
   "id": "829170ef",
   "metadata": {},
   "outputs": [
    {
     "data": {
      "text/plain": [
       "9.761543498274017"
      ]
     },
     "execution_count": 71,
     "metadata": {},
     "output_type": "execute_result"
    }
   ],
   "source": [
    "val_rmse"
   ]
  },
  {
   "cell_type": "code",
   "execution_count": 72,
   "id": "9327ed03",
   "metadata": {},
   "outputs": [
    {
     "data": {
      "text/html": [
       "<div>\n",
       "<style scoped>\n",
       "    .dataframe tbody tr th:only-of-type {\n",
       "        vertical-align: middle;\n",
       "    }\n",
       "\n",
       "    .dataframe tbody tr th {\n",
       "        vertical-align: top;\n",
       "    }\n",
       "\n",
       "    .dataframe thead th {\n",
       "        text-align: right;\n",
       "    }\n",
       "</style>\n",
       "<table border=\"1\" class=\"dataframe\">\n",
       "  <thead>\n",
       "    <tr style=\"text-align: right;\">\n",
       "      <th></th>\n",
       "      <th>pickup_longitude</th>\n",
       "      <th>pickup_latitude</th>\n",
       "      <th>dropoff_longitude</th>\n",
       "      <th>dropoff_latitude</th>\n",
       "      <th>passenger_count</th>\n",
       "    </tr>\n",
       "  </thead>\n",
       "  <tbody>\n",
       "    <tr>\n",
       "      <th>0</th>\n",
       "      <td>-73.973320</td>\n",
       "      <td>40.763805</td>\n",
       "      <td>-73.981430</td>\n",
       "      <td>40.743835</td>\n",
       "      <td>1</td>\n",
       "    </tr>\n",
       "    <tr>\n",
       "      <th>1</th>\n",
       "      <td>-73.986862</td>\n",
       "      <td>40.719383</td>\n",
       "      <td>-73.998886</td>\n",
       "      <td>40.739201</td>\n",
       "      <td>1</td>\n",
       "    </tr>\n",
       "    <tr>\n",
       "      <th>2</th>\n",
       "      <td>-73.982521</td>\n",
       "      <td>40.751259</td>\n",
       "      <td>-73.979652</td>\n",
       "      <td>40.746140</td>\n",
       "      <td>1</td>\n",
       "    </tr>\n",
       "    <tr>\n",
       "      <th>3</th>\n",
       "      <td>-73.981163</td>\n",
       "      <td>40.767807</td>\n",
       "      <td>-73.990448</td>\n",
       "      <td>40.751637</td>\n",
       "      <td>1</td>\n",
       "    </tr>\n",
       "    <tr>\n",
       "      <th>4</th>\n",
       "      <td>-73.966049</td>\n",
       "      <td>40.789776</td>\n",
       "      <td>-73.988564</td>\n",
       "      <td>40.744427</td>\n",
       "      <td>1</td>\n",
       "    </tr>\n",
       "    <tr>\n",
       "      <th>...</th>\n",
       "      <td>...</td>\n",
       "      <td>...</td>\n",
       "      <td>...</td>\n",
       "      <td>...</td>\n",
       "      <td>...</td>\n",
       "    </tr>\n",
       "    <tr>\n",
       "      <th>9909</th>\n",
       "      <td>-73.968124</td>\n",
       "      <td>40.796997</td>\n",
       "      <td>-73.955643</td>\n",
       "      <td>40.780388</td>\n",
       "      <td>6</td>\n",
       "    </tr>\n",
       "    <tr>\n",
       "      <th>9910</th>\n",
       "      <td>-73.945511</td>\n",
       "      <td>40.803600</td>\n",
       "      <td>-73.960213</td>\n",
       "      <td>40.776371</td>\n",
       "      <td>6</td>\n",
       "    </tr>\n",
       "    <tr>\n",
       "      <th>9911</th>\n",
       "      <td>-73.991600</td>\n",
       "      <td>40.726608</td>\n",
       "      <td>-73.789742</td>\n",
       "      <td>40.647011</td>\n",
       "      <td>6</td>\n",
       "    </tr>\n",
       "    <tr>\n",
       "      <th>9912</th>\n",
       "      <td>-73.985573</td>\n",
       "      <td>40.735432</td>\n",
       "      <td>-73.939178</td>\n",
       "      <td>40.801731</td>\n",
       "      <td>6</td>\n",
       "    </tr>\n",
       "    <tr>\n",
       "      <th>9913</th>\n",
       "      <td>-73.988022</td>\n",
       "      <td>40.754070</td>\n",
       "      <td>-74.000282</td>\n",
       "      <td>40.759220</td>\n",
       "      <td>6</td>\n",
       "    </tr>\n",
       "  </tbody>\n",
       "</table>\n",
       "<p>9914 rows × 5 columns</p>\n",
       "</div>"
      ],
      "text/plain": [
       "      pickup_longitude  pickup_latitude  dropoff_longitude  dropoff_latitude  \\\n",
       "0           -73.973320        40.763805         -73.981430         40.743835   \n",
       "1           -73.986862        40.719383         -73.998886         40.739201   \n",
       "2           -73.982521        40.751259         -73.979652         40.746140   \n",
       "3           -73.981163        40.767807         -73.990448         40.751637   \n",
       "4           -73.966049        40.789776         -73.988564         40.744427   \n",
       "...                ...              ...                ...               ...   \n",
       "9909        -73.968124        40.796997         -73.955643         40.780388   \n",
       "9910        -73.945511        40.803600         -73.960213         40.776371   \n",
       "9911        -73.991600        40.726608         -73.789742         40.647011   \n",
       "9912        -73.985573        40.735432         -73.939178         40.801731   \n",
       "9913        -73.988022        40.754070         -74.000282         40.759220   \n",
       "\n",
       "      passenger_count  \n",
       "0                   1  \n",
       "1                   1  \n",
       "2                   1  \n",
       "3                   1  \n",
       "4                   1  \n",
       "...               ...  \n",
       "9909                6  \n",
       "9910                6  \n",
       "9911                6  \n",
       "9912                6  \n",
       "9913                6  \n",
       "\n",
       "[9914 rows x 5 columns]"
      ]
     },
     "execution_count": 72,
     "metadata": {},
     "output_type": "execute_result"
    }
   ],
   "source": [
    "test_inputs"
   ]
  },
  {
   "cell_type": "code",
   "execution_count": 73,
   "id": "8367a0d7",
   "metadata": {},
   "outputs": [],
   "source": [
    "test_pred = linear_model.predict(test_inputs)"
   ]
  },
  {
   "cell_type": "code",
   "execution_count": 74,
   "id": "a3d8a32c",
   "metadata": {},
   "outputs": [
    {
     "data": {
      "text/plain": [
       "array([[11.24527603],\n",
       "       [11.24479111],\n",
       "       [11.24507439],\n",
       "       ...,\n",
       "       [11.74879243],\n",
       "       [11.74660411],\n",
       "       [11.7472437 ]])"
      ]
     },
     "execution_count": 74,
     "metadata": {},
     "output_type": "execute_result"
    }
   ],
   "source": [
    "test_pred"
   ]
  },
  {
   "cell_type": "code",
   "execution_count": 75,
   "id": "04fab9f6",
   "metadata": {},
   "outputs": [],
   "source": [
    "sub_df = pd.read_csv('sample_submission.csv')"
   ]
  },
  {
   "cell_type": "code",
   "execution_count": 76,
   "id": "2380d639",
   "metadata": {},
   "outputs": [
    {
     "data": {
      "text/html": [
       "<div>\n",
       "<style scoped>\n",
       "    .dataframe tbody tr th:only-of-type {\n",
       "        vertical-align: middle;\n",
       "    }\n",
       "\n",
       "    .dataframe tbody tr th {\n",
       "        vertical-align: top;\n",
       "    }\n",
       "\n",
       "    .dataframe thead th {\n",
       "        text-align: right;\n",
       "    }\n",
       "</style>\n",
       "<table border=\"1\" class=\"dataframe\">\n",
       "  <thead>\n",
       "    <tr style=\"text-align: right;\">\n",
       "      <th></th>\n",
       "      <th>key</th>\n",
       "      <th>fare_amount</th>\n",
       "    </tr>\n",
       "  </thead>\n",
       "  <tbody>\n",
       "    <tr>\n",
       "      <th>0</th>\n",
       "      <td>2015-01-27 13:08:24.0000002</td>\n",
       "      <td>11.35</td>\n",
       "    </tr>\n",
       "    <tr>\n",
       "      <th>1</th>\n",
       "      <td>2015-01-27 13:08:24.0000003</td>\n",
       "      <td>11.35</td>\n",
       "    </tr>\n",
       "    <tr>\n",
       "      <th>2</th>\n",
       "      <td>2011-10-08 11:53:44.0000002</td>\n",
       "      <td>11.35</td>\n",
       "    </tr>\n",
       "    <tr>\n",
       "      <th>3</th>\n",
       "      <td>2012-12-01 21:12:12.0000002</td>\n",
       "      <td>11.35</td>\n",
       "    </tr>\n",
       "    <tr>\n",
       "      <th>4</th>\n",
       "      <td>2012-12-01 21:12:12.0000003</td>\n",
       "      <td>11.35</td>\n",
       "    </tr>\n",
       "    <tr>\n",
       "      <th>...</th>\n",
       "      <td>...</td>\n",
       "      <td>...</td>\n",
       "    </tr>\n",
       "    <tr>\n",
       "      <th>9909</th>\n",
       "      <td>2015-05-10 12:37:51.0000002</td>\n",
       "      <td>11.35</td>\n",
       "    </tr>\n",
       "    <tr>\n",
       "      <th>9910</th>\n",
       "      <td>2015-01-12 17:05:51.0000001</td>\n",
       "      <td>11.35</td>\n",
       "    </tr>\n",
       "    <tr>\n",
       "      <th>9911</th>\n",
       "      <td>2015-04-19 20:44:15.0000001</td>\n",
       "      <td>11.35</td>\n",
       "    </tr>\n",
       "    <tr>\n",
       "      <th>9912</th>\n",
       "      <td>2015-01-31 01:05:19.0000005</td>\n",
       "      <td>11.35</td>\n",
       "    </tr>\n",
       "    <tr>\n",
       "      <th>9913</th>\n",
       "      <td>2015-01-18 14:06:23.0000006</td>\n",
       "      <td>11.35</td>\n",
       "    </tr>\n",
       "  </tbody>\n",
       "</table>\n",
       "<p>9914 rows × 2 columns</p>\n",
       "</div>"
      ],
      "text/plain": [
       "                              key  fare_amount\n",
       "0     2015-01-27 13:08:24.0000002        11.35\n",
       "1     2015-01-27 13:08:24.0000003        11.35\n",
       "2     2011-10-08 11:53:44.0000002        11.35\n",
       "3     2012-12-01 21:12:12.0000002        11.35\n",
       "4     2012-12-01 21:12:12.0000003        11.35\n",
       "...                           ...          ...\n",
       "9909  2015-05-10 12:37:51.0000002        11.35\n",
       "9910  2015-01-12 17:05:51.0000001        11.35\n",
       "9911  2015-04-19 20:44:15.0000001        11.35\n",
       "9912  2015-01-31 01:05:19.0000005        11.35\n",
       "9913  2015-01-18 14:06:23.0000006        11.35\n",
       "\n",
       "[9914 rows x 2 columns]"
      ]
     },
     "execution_count": 76,
     "metadata": {},
     "output_type": "execute_result"
    }
   ],
   "source": [
    "sub_df"
   ]
  },
  {
   "cell_type": "code",
   "execution_count": 77,
   "id": "c83cc742",
   "metadata": {},
   "outputs": [],
   "source": [
    "sub_df['fare_amount']= test_pred"
   ]
  },
  {
   "cell_type": "code",
   "execution_count": 78,
   "id": "2469e3f0",
   "metadata": {},
   "outputs": [
    {
     "data": {
      "text/html": [
       "<div>\n",
       "<style scoped>\n",
       "    .dataframe tbody tr th:only-of-type {\n",
       "        vertical-align: middle;\n",
       "    }\n",
       "\n",
       "    .dataframe tbody tr th {\n",
       "        vertical-align: top;\n",
       "    }\n",
       "\n",
       "    .dataframe thead th {\n",
       "        text-align: right;\n",
       "    }\n",
       "</style>\n",
       "<table border=\"1\" class=\"dataframe\">\n",
       "  <thead>\n",
       "    <tr style=\"text-align: right;\">\n",
       "      <th></th>\n",
       "      <th>key</th>\n",
       "      <th>fare_amount</th>\n",
       "    </tr>\n",
       "  </thead>\n",
       "  <tbody>\n",
       "    <tr>\n",
       "      <th>0</th>\n",
       "      <td>2015-01-27 13:08:24.0000002</td>\n",
       "      <td>11.245276</td>\n",
       "    </tr>\n",
       "    <tr>\n",
       "      <th>1</th>\n",
       "      <td>2015-01-27 13:08:24.0000003</td>\n",
       "      <td>11.244791</td>\n",
       "    </tr>\n",
       "    <tr>\n",
       "      <th>2</th>\n",
       "      <td>2011-10-08 11:53:44.0000002</td>\n",
       "      <td>11.245074</td>\n",
       "    </tr>\n",
       "    <tr>\n",
       "      <th>3</th>\n",
       "      <td>2012-12-01 21:12:12.0000002</td>\n",
       "      <td>11.245157</td>\n",
       "    </tr>\n",
       "    <tr>\n",
       "      <th>4</th>\n",
       "      <td>2012-12-01 21:12:12.0000003</td>\n",
       "      <td>11.245556</td>\n",
       "    </tr>\n",
       "    <tr>\n",
       "      <th>...</th>\n",
       "      <td>...</td>\n",
       "      <td>...</td>\n",
       "    </tr>\n",
       "    <tr>\n",
       "      <th>9909</th>\n",
       "      <td>2015-05-10 12:37:51.0000002</td>\n",
       "      <td>11.747571</td>\n",
       "    </tr>\n",
       "    <tr>\n",
       "      <th>9910</th>\n",
       "      <td>2015-01-12 17:05:51.0000001</td>\n",
       "      <td>11.747800</td>\n",
       "    </tr>\n",
       "    <tr>\n",
       "      <th>9911</th>\n",
       "      <td>2015-04-19 20:44:15.0000001</td>\n",
       "      <td>11.748792</td>\n",
       "    </tr>\n",
       "    <tr>\n",
       "      <th>9912</th>\n",
       "      <td>2015-01-31 01:05:19.0000005</td>\n",
       "      <td>11.746604</td>\n",
       "    </tr>\n",
       "    <tr>\n",
       "      <th>9913</th>\n",
       "      <td>2015-01-18 14:06:23.0000006</td>\n",
       "      <td>11.747244</td>\n",
       "    </tr>\n",
       "  </tbody>\n",
       "</table>\n",
       "<p>9914 rows × 2 columns</p>\n",
       "</div>"
      ],
      "text/plain": [
       "                              key  fare_amount\n",
       "0     2015-01-27 13:08:24.0000002    11.245276\n",
       "1     2015-01-27 13:08:24.0000003    11.244791\n",
       "2     2011-10-08 11:53:44.0000002    11.245074\n",
       "3     2012-12-01 21:12:12.0000002    11.245157\n",
       "4     2012-12-01 21:12:12.0000003    11.245556\n",
       "...                           ...          ...\n",
       "9909  2015-05-10 12:37:51.0000002    11.747571\n",
       "9910  2015-01-12 17:05:51.0000001    11.747800\n",
       "9911  2015-04-19 20:44:15.0000001    11.748792\n",
       "9912  2015-01-31 01:05:19.0000005    11.746604\n",
       "9913  2015-01-18 14:06:23.0000006    11.747244\n",
       "\n",
       "[9914 rows x 2 columns]"
      ]
     },
     "execution_count": 78,
     "metadata": {},
     "output_type": "execute_result"
    }
   ],
   "source": [
    "sub_df"
   ]
  },
  {
   "cell_type": "code",
   "execution_count": 79,
   "id": "7c087b6f",
   "metadata": {},
   "outputs": [],
   "source": [
    "sub_df.to_csv('linear_model_submission.csv',index=None)"
   ]
  },
  {
   "cell_type": "markdown",
   "id": "c5b78abf",
   "metadata": {},
   "source": [
    "# Reusable predict and submit function"
   ]
  },
  {
   "cell_type": "code",
   "execution_count": 80,
   "id": "c973f9d5",
   "metadata": {},
   "outputs": [],
   "source": [
    "def predict_and_submit(model,test_inputs,fname):\n",
    "    test_pred = model.predict(test_inputs)\n",
    "    sub_df = pd.read_csv('sample_submission.csv')\n",
    "    sub_df['fare_amount']=test_pred\n",
    "    sub_df.to_csv(fname,index = None)\n",
    "    return sub_df"
   ]
  },
  {
   "cell_type": "code",
   "execution_count": 81,
   "id": "c443f84b",
   "metadata": {},
   "outputs": [
    {
     "data": {
      "text/plain": [
       "pandas.core.frame.DataFrame"
      ]
     },
     "execution_count": 81,
     "metadata": {},
     "output_type": "execute_result"
    }
   ],
   "source": [
    "type(test_inputs)"
   ]
  },
  {
   "cell_type": "code",
   "execution_count": null,
   "id": "16d4795d",
   "metadata": {},
   "outputs": [],
   "source": []
  },
  {
   "cell_type": "markdown",
   "id": "8566c6df",
   "metadata": {},
   "source": [
    "# feature engineering"
   ]
  },
  {
   "cell_type": "code",
   "execution_count": 82,
   "id": "2aada41a",
   "metadata": {},
   "outputs": [],
   "source": [
    "# extract date and time\n",
    "# remove outliers and invalid data\n",
    "# add distance between pickup and dropoff\n",
    "# add distance from landmark"
   ]
  },
  {
   "cell_type": "code",
   "execution_count": 83,
   "id": "e9145733",
   "metadata": {},
   "outputs": [],
   "source": [
    "#extract date and time"
   ]
  },
  {
   "cell_type": "code",
   "execution_count": 84,
   "id": "5a190dc3",
   "metadata": {},
   "outputs": [],
   "source": [
    "def add_dateparts(df,col):\n",
    "    df[col+'_year']=df[col].dt.year\n",
    "    df[col+'_month']=df[col].dt.month\n",
    "    df[col+'_day']=df[col].dt.day\n",
    "    df[col+'_weekday']=df[col].dt.weekday\n",
    "    df[col+'_hour']=df[col].dt.hour"
   ]
  },
  {
   "cell_type": "code",
   "execution_count": 85,
   "id": "a017bbb5",
   "metadata": {},
   "outputs": [
    {
     "name": "stderr",
     "output_type": "stream",
     "text": [
      "<ipython-input-84-5c767b9dcae8>:2: SettingWithCopyWarning: \n",
      "A value is trying to be set on a copy of a slice from a DataFrame.\n",
      "Try using .loc[row_indexer,col_indexer] = value instead\n",
      "\n",
      "See the caveats in the documentation: https://pandas.pydata.org/pandas-docs/stable/user_guide/indexing.html#returning-a-view-versus-a-copy\n",
      "  df[col+'_year']=df[col].dt.year\n",
      "<ipython-input-84-5c767b9dcae8>:3: SettingWithCopyWarning: \n",
      "A value is trying to be set on a copy of a slice from a DataFrame.\n",
      "Try using .loc[row_indexer,col_indexer] = value instead\n",
      "\n",
      "See the caveats in the documentation: https://pandas.pydata.org/pandas-docs/stable/user_guide/indexing.html#returning-a-view-versus-a-copy\n",
      "  df[col+'_month']=df[col].dt.month\n",
      "<ipython-input-84-5c767b9dcae8>:4: SettingWithCopyWarning: \n",
      "A value is trying to be set on a copy of a slice from a DataFrame.\n",
      "Try using .loc[row_indexer,col_indexer] = value instead\n",
      "\n",
      "See the caveats in the documentation: https://pandas.pydata.org/pandas-docs/stable/user_guide/indexing.html#returning-a-view-versus-a-copy\n",
      "  df[col+'_day']=df[col].dt.day\n",
      "<ipython-input-84-5c767b9dcae8>:5: SettingWithCopyWarning: \n",
      "A value is trying to be set on a copy of a slice from a DataFrame.\n",
      "Try using .loc[row_indexer,col_indexer] = value instead\n",
      "\n",
      "See the caveats in the documentation: https://pandas.pydata.org/pandas-docs/stable/user_guide/indexing.html#returning-a-view-versus-a-copy\n",
      "  df[col+'_weekday']=df[col].dt.weekday\n",
      "<ipython-input-84-5c767b9dcae8>:6: SettingWithCopyWarning: \n",
      "A value is trying to be set on a copy of a slice from a DataFrame.\n",
      "Try using .loc[row_indexer,col_indexer] = value instead\n",
      "\n",
      "See the caveats in the documentation: https://pandas.pydata.org/pandas-docs/stable/user_guide/indexing.html#returning-a-view-versus-a-copy\n",
      "  df[col+'_hour']=df[col].dt.hour\n"
     ]
    }
   ],
   "source": [
    "add_dateparts(train_df,'pickup_datetime')"
   ]
  },
  {
   "cell_type": "code",
   "execution_count": 86,
   "id": "222da817",
   "metadata": {},
   "outputs": [],
   "source": [
    "add_dateparts(val_df,'pickup_datetime')"
   ]
  },
  {
   "cell_type": "code",
   "execution_count": 87,
   "id": "9d818f9c",
   "metadata": {},
   "outputs": [],
   "source": [
    "add_dateparts(data_test,'pickup_datetime')"
   ]
  },
  {
   "cell_type": "code",
   "execution_count": 88,
   "id": "a08b6aca",
   "metadata": {},
   "outputs": [],
   "source": [
    "# distance between pickup and dropoff(haversine formula)"
   ]
  },
  {
   "cell_type": "code",
   "execution_count": 89,
   "id": "7741b283",
   "metadata": {},
   "outputs": [],
   "source": [
    "def haversine_km(long1,lat1,long2,lat2):\n",
    "    \"\"\"\n",
    "    Calculate the great circle distance between two points \n",
    "    on the earth (specified in decimal degrees)\n",
    "    \"\"\"\n",
    "    # convert decimal degrees to radians \n",
    "    long1, lat1, long2, lat2 = map(np.radians, [long1, lat1, long2, lat2])\n",
    "    # haversine formula \n",
    "    dlong = long2 - long1 \n",
    "    dlat = lat2 - lat1 \n",
    "    a = np.sin(dlat/2.0)**2 + np.cos(lat1) * np.cos(lat2) * np.sin(dlong/2.0)**2\n",
    "    c = 2 * np.arcsin(np.sqrt(a)) \n",
    "    km = 6367 * c\n",
    "    return km"
   ]
  },
  {
   "cell_type": "code",
   "execution_count": 90,
   "id": "a2fe2dcc",
   "metadata": {},
   "outputs": [],
   "source": [
    "def add_distance(df):\n",
    "    df['trip_distance']=haversine_km(df['pickup_longitude'],\n",
    "                                     df['pickup_latitude'],\n",
    "                                     df['dropoff_longitude'],\n",
    "                                     df['dropoff_latitude'])"
   ]
  },
  {
   "cell_type": "code",
   "execution_count": 91,
   "id": "cae3ed4a",
   "metadata": {},
   "outputs": [
    {
     "name": "stderr",
     "output_type": "stream",
     "text": [
      "<ipython-input-90-ef37a6cde292>:2: SettingWithCopyWarning: \n",
      "A value is trying to be set on a copy of a slice from a DataFrame.\n",
      "Try using .loc[row_indexer,col_indexer] = value instead\n",
      "\n",
      "See the caveats in the documentation: https://pandas.pydata.org/pandas-docs/stable/user_guide/indexing.html#returning-a-view-versus-a-copy\n",
      "  df['trip_distance']=haversine_km(df['pickup_longitude'],\n"
     ]
    }
   ],
   "source": [
    "add_distance(train_df)\n",
    "add_distance(val_df)"
   ]
  },
  {
   "cell_type": "code",
   "execution_count": 92,
   "id": "eaee28fd",
   "metadata": {},
   "outputs": [],
   "source": [
    "add_distance(data_test)"
   ]
  },
  {
   "cell_type": "code",
   "execution_count": null,
   "id": "da4f0e63",
   "metadata": {},
   "outputs": [],
   "source": []
  },
  {
   "cell_type": "code",
   "execution_count": 93,
   "id": "f4bb44fb",
   "metadata": {},
   "outputs": [
    {
     "data": {
      "text/html": [
       "<div>\n",
       "<style scoped>\n",
       "    .dataframe tbody tr th:only-of-type {\n",
       "        vertical-align: middle;\n",
       "    }\n",
       "\n",
       "    .dataframe tbody tr th {\n",
       "        vertical-align: top;\n",
       "    }\n",
       "\n",
       "    .dataframe thead th {\n",
       "        text-align: right;\n",
       "    }\n",
       "</style>\n",
       "<table border=\"1\" class=\"dataframe\">\n",
       "  <thead>\n",
       "    <tr style=\"text-align: right;\">\n",
       "      <th></th>\n",
       "      <th>fare_amount</th>\n",
       "      <th>pickup_datetime</th>\n",
       "      <th>pickup_longitude</th>\n",
       "      <th>pickup_latitude</th>\n",
       "      <th>dropoff_longitude</th>\n",
       "      <th>dropoff_latitude</th>\n",
       "      <th>passenger_count</th>\n",
       "      <th>pickup_datetime_year</th>\n",
       "      <th>pickup_datetime_month</th>\n",
       "      <th>pickup_datetime_day</th>\n",
       "      <th>pickup_datetime_weekday</th>\n",
       "      <th>pickup_datetime_hour</th>\n",
       "      <th>trip_distance</th>\n",
       "    </tr>\n",
       "  </thead>\n",
       "  <tbody>\n",
       "    <tr>\n",
       "      <th>159962</th>\n",
       "      <td>10.0</td>\n",
       "      <td>2012-12-19 19:08:00+00:00</td>\n",
       "      <td>-73.980760</td>\n",
       "      <td>40.769620</td>\n",
       "      <td>-73.959650</td>\n",
       "      <td>40.776943</td>\n",
       "      <td>1</td>\n",
       "      <td>2012</td>\n",
       "      <td>12</td>\n",
       "      <td>19</td>\n",
       "      <td>2</td>\n",
       "      <td>19</td>\n",
       "      <td>1.954026</td>\n",
       "    </tr>\n",
       "    <tr>\n",
       "      <th>239519</th>\n",
       "      <td>5.7</td>\n",
       "      <td>2009-06-15 20:20:00+00:00</td>\n",
       "      <td>-73.984960</td>\n",
       "      <td>40.751000</td>\n",
       "      <td>-73.990456</td>\n",
       "      <td>40.760868</td>\n",
       "      <td>2</td>\n",
       "      <td>2009</td>\n",
       "      <td>6</td>\n",
       "      <td>15</td>\n",
       "      <td>0</td>\n",
       "      <td>20</td>\n",
       "      <td>1.190179</td>\n",
       "    </tr>\n",
       "    <tr>\n",
       "      <th>55333</th>\n",
       "      <td>8.0</td>\n",
       "      <td>2013-07-02 09:39:00+00:00</td>\n",
       "      <td>-73.958760</td>\n",
       "      <td>40.780870</td>\n",
       "      <td>-73.980430</td>\n",
       "      <td>40.773212</td>\n",
       "      <td>1</td>\n",
       "      <td>2013</td>\n",
       "      <td>7</td>\n",
       "      <td>2</td>\n",
       "      <td>1</td>\n",
       "      <td>9</td>\n",
       "      <td>2.012331</td>\n",
       "    </tr>\n",
       "    <tr>\n",
       "      <th>21154</th>\n",
       "      <td>19.3</td>\n",
       "      <td>2011-01-11 19:17:42+00:00</td>\n",
       "      <td>-73.959236</td>\n",
       "      <td>40.763165</td>\n",
       "      <td>-74.010830</td>\n",
       "      <td>40.718720</td>\n",
       "      <td>1</td>\n",
       "      <td>2011</td>\n",
       "      <td>1</td>\n",
       "      <td>11</td>\n",
       "      <td>1</td>\n",
       "      <td>19</td>\n",
       "      <td>6.577513</td>\n",
       "    </tr>\n",
       "    <tr>\n",
       "      <th>257163</th>\n",
       "      <td>6.5</td>\n",
       "      <td>2014-03-06 18:14:00+00:00</td>\n",
       "      <td>-74.010980</td>\n",
       "      <td>40.716526</td>\n",
       "      <td>-74.007790</td>\n",
       "      <td>40.732048</td>\n",
       "      <td>1</td>\n",
       "      <td>2014</td>\n",
       "      <td>3</td>\n",
       "      <td>6</td>\n",
       "      <td>3</td>\n",
       "      <td>18</td>\n",
       "      <td>1.745680</td>\n",
       "    </tr>\n",
       "  </tbody>\n",
       "</table>\n",
       "</div>"
      ],
      "text/plain": [
       "        fare_amount           pickup_datetime  pickup_longitude  \\\n",
       "159962         10.0 2012-12-19 19:08:00+00:00        -73.980760   \n",
       "239519          5.7 2009-06-15 20:20:00+00:00        -73.984960   \n",
       "55333           8.0 2013-07-02 09:39:00+00:00        -73.958760   \n",
       "21154          19.3 2011-01-11 19:17:42+00:00        -73.959236   \n",
       "257163          6.5 2014-03-06 18:14:00+00:00        -74.010980   \n",
       "\n",
       "        pickup_latitude  dropoff_longitude  dropoff_latitude  passenger_count  \\\n",
       "159962        40.769620         -73.959650         40.776943                1   \n",
       "239519        40.751000         -73.990456         40.760868                2   \n",
       "55333         40.780870         -73.980430         40.773212                1   \n",
       "21154         40.763165         -74.010830         40.718720                1   \n",
       "257163        40.716526         -74.007790         40.732048                1   \n",
       "\n",
       "        pickup_datetime_year  pickup_datetime_month  pickup_datetime_day  \\\n",
       "159962                  2012                     12                   19   \n",
       "239519                  2009                      6                   15   \n",
       "55333                   2013                      7                    2   \n",
       "21154                   2011                      1                   11   \n",
       "257163                  2014                      3                    6   \n",
       "\n",
       "        pickup_datetime_weekday  pickup_datetime_hour  trip_distance  \n",
       "159962                        2                    19       1.954026  \n",
       "239519                        0                    20       1.190179  \n",
       "55333                         1                     9       2.012331  \n",
       "21154                         1                    19       6.577513  \n",
       "257163                        3                    18       1.745680  "
      ]
     },
     "execution_count": 93,
     "metadata": {},
     "output_type": "execute_result"
    }
   ],
   "source": [
    "train_df.head()"
   ]
  },
  {
   "cell_type": "code",
   "execution_count": null,
   "id": "f2e392b7",
   "metadata": {},
   "outputs": [],
   "source": []
  },
  {
   "cell_type": "code",
   "execution_count": 94,
   "id": "f8ca8872",
   "metadata": {},
   "outputs": [],
   "source": [
    "# add distance from landmark"
   ]
  },
  {
   "cell_type": "code",
   "execution_count": 95,
   "id": "b64cfe17",
   "metadata": {},
   "outputs": [],
   "source": [
    "# landmarks:\n",
    "#     JKF AIRPORT\n",
    "#     LGA AIRPORT\n",
    "#     EWR AIRPORT\n",
    "#     TIMES SQUARE\n",
    "#     MET MUSEUM\n",
    "#     WORLD TRADE CENTER"
   ]
  },
  {
   "cell_type": "code",
   "execution_count": 96,
   "id": "6c6dcd88",
   "metadata": {},
   "outputs": [],
   "source": [
    "jkf_longlat = -73.7781, 40.6413\n",
    "lga_longlat = -73.8740, 40.7769\n",
    "ewr_longlat = -74.1745, 40.6895\n",
    "tme_longlat = -73.9855, 40.7580\n",
    "met_longlat = -73.9632, 40.7794\n",
    "wtc_longlat = -74.0099, 40.7126"
   ]
  },
  {
   "cell_type": "code",
   "execution_count": 97,
   "id": "d2e0ca0e",
   "metadata": {},
   "outputs": [],
   "source": [
    "def add_landmark_distance(df,land_name,land_longlat):\n",
    "    long,lat = land_longlat\n",
    "    df[land_name+'_drop_distance']=haversine_km(long,lat,df['dropoff_longitude'],df['dropoff_latitude'])"
   ]
  },
  {
   "cell_type": "code",
   "execution_count": 98,
   "id": "f2251cbe",
   "metadata": {},
   "outputs": [],
   "source": [
    "def add_landmarks(df):\n",
    "    landmarks = [('JKF',jkf_longlat),\n",
    "                 ('LGA',lga_longlat),\n",
    "                ('EWR',ewr_longlat),\n",
    "                ('TME',tme_longlat),\n",
    "                ('MET',met_longlat),\n",
    "                ('WTC',wtc_longlat)]\n",
    "    for name,longlat in landmarks:\n",
    "        add_landmark_distance(df,name,longlat)"
   ]
  },
  {
   "cell_type": "code",
   "execution_count": 99,
   "id": "9f82ff53",
   "metadata": {},
   "outputs": [
    {
     "name": "stderr",
     "output_type": "stream",
     "text": [
      "<ipython-input-97-05172b13cb8a>:3: SettingWithCopyWarning: \n",
      "A value is trying to be set on a copy of a slice from a DataFrame.\n",
      "Try using .loc[row_indexer,col_indexer] = value instead\n",
      "\n",
      "See the caveats in the documentation: https://pandas.pydata.org/pandas-docs/stable/user_guide/indexing.html#returning-a-view-versus-a-copy\n",
      "  df[land_name+'_drop_distance']=haversine_km(long,lat,df['dropoff_longitude'],df['dropoff_latitude'])\n"
     ]
    }
   ],
   "source": [
    "add_landmarks(train_df)"
   ]
  },
  {
   "cell_type": "code",
   "execution_count": 100,
   "id": "4e5eeb13",
   "metadata": {},
   "outputs": [],
   "source": [
    "add_landmarks(val_df)"
   ]
  },
  {
   "cell_type": "code",
   "execution_count": 101,
   "id": "792e4aa4",
   "metadata": {},
   "outputs": [],
   "source": [
    "add_landmarks(data_test)"
   ]
  },
  {
   "cell_type": "code",
   "execution_count": 102,
   "id": "e72a0d79",
   "metadata": {},
   "outputs": [
    {
     "data": {
      "text/html": [
       "<div>\n",
       "<style scoped>\n",
       "    .dataframe tbody tr th:only-of-type {\n",
       "        vertical-align: middle;\n",
       "    }\n",
       "\n",
       "    .dataframe tbody tr th {\n",
       "        vertical-align: top;\n",
       "    }\n",
       "\n",
       "    .dataframe thead th {\n",
       "        text-align: right;\n",
       "    }\n",
       "</style>\n",
       "<table border=\"1\" class=\"dataframe\">\n",
       "  <thead>\n",
       "    <tr style=\"text-align: right;\">\n",
       "      <th></th>\n",
       "      <th>fare_amount</th>\n",
       "      <th>pickup_datetime</th>\n",
       "      <th>pickup_longitude</th>\n",
       "      <th>pickup_latitude</th>\n",
       "      <th>dropoff_longitude</th>\n",
       "      <th>dropoff_latitude</th>\n",
       "      <th>passenger_count</th>\n",
       "      <th>pickup_datetime_year</th>\n",
       "      <th>pickup_datetime_month</th>\n",
       "      <th>pickup_datetime_day</th>\n",
       "      <th>pickup_datetime_weekday</th>\n",
       "      <th>pickup_datetime_hour</th>\n",
       "      <th>trip_distance</th>\n",
       "      <th>JKF_drop_distance</th>\n",
       "      <th>LGA_drop_distance</th>\n",
       "      <th>EWR_drop_distance</th>\n",
       "      <th>TME_drop_distance</th>\n",
       "      <th>MET_drop_distance</th>\n",
       "      <th>WTC_drop_distance</th>\n",
       "    </tr>\n",
       "  </thead>\n",
       "  <tbody>\n",
       "    <tr>\n",
       "      <th>159962</th>\n",
       "      <td>10.0</td>\n",
       "      <td>2012-12-19 19:08:00+00:00</td>\n",
       "      <td>-73.980760</td>\n",
       "      <td>40.769620</td>\n",
       "      <td>-73.959650</td>\n",
       "      <td>40.776943</td>\n",
       "      <td>1</td>\n",
       "      <td>2012</td>\n",
       "      <td>12</td>\n",
       "      <td>19</td>\n",
       "      <td>2</td>\n",
       "      <td>19</td>\n",
       "      <td>1.954026</td>\n",
       "      <td>21.472861</td>\n",
       "      <td>7.207483</td>\n",
       "      <td>20.536017</td>\n",
       "      <td>3.027281</td>\n",
       "      <td>0.404705</td>\n",
       "      <td>8.307964</td>\n",
       "    </tr>\n",
       "    <tr>\n",
       "      <th>239519</th>\n",
       "      <td>5.7</td>\n",
       "      <td>2009-06-15 20:20:00+00:00</td>\n",
       "      <td>-73.984960</td>\n",
       "      <td>40.751000</td>\n",
       "      <td>-73.990456</td>\n",
       "      <td>40.760868</td>\n",
       "      <td>2</td>\n",
       "      <td>2009</td>\n",
       "      <td>6</td>\n",
       "      <td>15</td>\n",
       "      <td>0</td>\n",
       "      <td>20</td>\n",
       "      <td>1.190179</td>\n",
       "      <td>22.284619</td>\n",
       "      <td>9.961608</td>\n",
       "      <td>17.410613</td>\n",
       "      <td>0.524972</td>\n",
       "      <td>3.082645</td>\n",
       "      <td>5.608089</td>\n",
       "    </tr>\n",
       "    <tr>\n",
       "      <th>55333</th>\n",
       "      <td>8.0</td>\n",
       "      <td>2013-07-02 09:39:00+00:00</td>\n",
       "      <td>-73.958760</td>\n",
       "      <td>40.780870</td>\n",
       "      <td>-73.980430</td>\n",
       "      <td>40.773212</td>\n",
       "      <td>1</td>\n",
       "      <td>2013</td>\n",
       "      <td>7</td>\n",
       "      <td>2</td>\n",
       "      <td>1</td>\n",
       "      <td>9</td>\n",
       "      <td>2.012331</td>\n",
       "      <td>22.480563</td>\n",
       "      <td>8.965750</td>\n",
       "      <td>18.804413</td>\n",
       "      <td>1.743461</td>\n",
       "      <td>1.604722</td>\n",
       "      <td>7.177982</td>\n",
       "    </tr>\n",
       "    <tr>\n",
       "      <th>21154</th>\n",
       "      <td>19.3</td>\n",
       "      <td>2011-01-11 19:17:42+00:00</td>\n",
       "      <td>-73.959236</td>\n",
       "      <td>40.763165</td>\n",
       "      <td>-74.010830</td>\n",
       "      <td>40.718720</td>\n",
       "      <td>1</td>\n",
       "      <td>2011</td>\n",
       "      <td>1</td>\n",
       "      <td>11</td>\n",
       "      <td>1</td>\n",
       "      <td>19</td>\n",
       "      <td>6.577513</td>\n",
       "      <td>21.416838</td>\n",
       "      <td>13.209648</td>\n",
       "      <td>14.165163</td>\n",
       "      <td>4.858175</td>\n",
       "      <td>7.845204</td>\n",
       "      <td>0.684582</td>\n",
       "    </tr>\n",
       "    <tr>\n",
       "      <th>257163</th>\n",
       "      <td>6.5</td>\n",
       "      <td>2014-03-06 18:14:00+00:00</td>\n",
       "      <td>-74.010980</td>\n",
       "      <td>40.716526</td>\n",
       "      <td>-74.007790</td>\n",
       "      <td>40.732048</td>\n",
       "      <td>1</td>\n",
       "      <td>2014</td>\n",
       "      <td>3</td>\n",
       "      <td>6</td>\n",
       "      <td>3</td>\n",
       "      <td>18</td>\n",
       "      <td>1.745680</td>\n",
       "      <td>21.824304</td>\n",
       "      <td>12.315889</td>\n",
       "      <td>14.817287</td>\n",
       "      <td>3.440736</td>\n",
       "      <td>6.463520</td>\n",
       "      <td>2.168455</td>\n",
       "    </tr>\n",
       "  </tbody>\n",
       "</table>\n",
       "</div>"
      ],
      "text/plain": [
       "        fare_amount           pickup_datetime  pickup_longitude  \\\n",
       "159962         10.0 2012-12-19 19:08:00+00:00        -73.980760   \n",
       "239519          5.7 2009-06-15 20:20:00+00:00        -73.984960   \n",
       "55333           8.0 2013-07-02 09:39:00+00:00        -73.958760   \n",
       "21154          19.3 2011-01-11 19:17:42+00:00        -73.959236   \n",
       "257163          6.5 2014-03-06 18:14:00+00:00        -74.010980   \n",
       "\n",
       "        pickup_latitude  dropoff_longitude  dropoff_latitude  passenger_count  \\\n",
       "159962        40.769620         -73.959650         40.776943                1   \n",
       "239519        40.751000         -73.990456         40.760868                2   \n",
       "55333         40.780870         -73.980430         40.773212                1   \n",
       "21154         40.763165         -74.010830         40.718720                1   \n",
       "257163        40.716526         -74.007790         40.732048                1   \n",
       "\n",
       "        pickup_datetime_year  pickup_datetime_month  pickup_datetime_day  \\\n",
       "159962                  2012                     12                   19   \n",
       "239519                  2009                      6                   15   \n",
       "55333                   2013                      7                    2   \n",
       "21154                   2011                      1                   11   \n",
       "257163                  2014                      3                    6   \n",
       "\n",
       "        pickup_datetime_weekday  pickup_datetime_hour  trip_distance  \\\n",
       "159962                        2                    19       1.954026   \n",
       "239519                        0                    20       1.190179   \n",
       "55333                         1                     9       2.012331   \n",
       "21154                         1                    19       6.577513   \n",
       "257163                        3                    18       1.745680   \n",
       "\n",
       "        JKF_drop_distance  LGA_drop_distance  EWR_drop_distance  \\\n",
       "159962          21.472861           7.207483          20.536017   \n",
       "239519          22.284619           9.961608          17.410613   \n",
       "55333           22.480563           8.965750          18.804413   \n",
       "21154           21.416838          13.209648          14.165163   \n",
       "257163          21.824304          12.315889          14.817287   \n",
       "\n",
       "        TME_drop_distance  MET_drop_distance  WTC_drop_distance  \n",
       "159962           3.027281           0.404705           8.307964  \n",
       "239519           0.524972           3.082645           5.608089  \n",
       "55333            1.743461           1.604722           7.177982  \n",
       "21154            4.858175           7.845204           0.684582  \n",
       "257163           3.440736           6.463520           2.168455  "
      ]
     },
     "execution_count": 102,
     "metadata": {},
     "output_type": "execute_result"
    }
   ],
   "source": [
    "train_df.head()"
   ]
  },
  {
   "cell_type": "code",
   "execution_count": null,
   "id": "91eb0f16",
   "metadata": {},
   "outputs": [],
   "source": []
  },
  {
   "cell_type": "markdown",
   "id": "0064580d",
   "metadata": {},
   "source": [
    "# remove outliers and invalid data"
   ]
  },
  {
   "cell_type": "code",
   "execution_count": 103,
   "id": "800620ad",
   "metadata": {},
   "outputs": [
    {
     "data": {
      "text/html": [
       "<div>\n",
       "<style scoped>\n",
       "    .dataframe tbody tr th:only-of-type {\n",
       "        vertical-align: middle;\n",
       "    }\n",
       "\n",
       "    .dataframe tbody tr th {\n",
       "        vertical-align: top;\n",
       "    }\n",
       "\n",
       "    .dataframe thead th {\n",
       "        text-align: right;\n",
       "    }\n",
       "</style>\n",
       "<table border=\"1\" class=\"dataframe\">\n",
       "  <thead>\n",
       "    <tr style=\"text-align: right;\">\n",
       "      <th></th>\n",
       "      <th>fare_amount</th>\n",
       "      <th>pickup_longitude</th>\n",
       "      <th>pickup_latitude</th>\n",
       "      <th>dropoff_longitude</th>\n",
       "      <th>dropoff_latitude</th>\n",
       "      <th>passenger_count</th>\n",
       "    </tr>\n",
       "  </thead>\n",
       "  <tbody>\n",
       "    <tr>\n",
       "      <th>count</th>\n",
       "      <td>553888.000000</td>\n",
       "      <td>553888.000000</td>\n",
       "      <td>553888.000000</td>\n",
       "      <td>553884.000000</td>\n",
       "      <td>553884.000000</td>\n",
       "      <td>553888.000000</td>\n",
       "    </tr>\n",
       "    <tr>\n",
       "      <th>mean</th>\n",
       "      <td>11.325466</td>\n",
       "      <td>-72.539418</td>\n",
       "      <td>39.910143</td>\n",
       "      <td>-72.531035</td>\n",
       "      <td>39.897806</td>\n",
       "      <td>1.687171</td>\n",
       "    </tr>\n",
       "    <tr>\n",
       "      <th>std</th>\n",
       "      <td>9.752500</td>\n",
       "      <td>15.121063</td>\n",
       "      <td>8.770774</td>\n",
       "      <td>13.238080</td>\n",
       "      <td>8.959665</td>\n",
       "      <td>1.339930</td>\n",
       "    </tr>\n",
       "    <tr>\n",
       "      <th>min</th>\n",
       "      <td>-52.000000</td>\n",
       "      <td>-3442.059600</td>\n",
       "      <td>-2145.906000</td>\n",
       "      <td>-3370.710400</td>\n",
       "      <td>-2530.357400</td>\n",
       "      <td>0.000000</td>\n",
       "    </tr>\n",
       "    <tr>\n",
       "      <th>25%</th>\n",
       "      <td>6.000000</td>\n",
       "      <td>-73.992080</td>\n",
       "      <td>40.734910</td>\n",
       "      <td>-73.991380</td>\n",
       "      <td>40.733974</td>\n",
       "      <td>1.000000</td>\n",
       "    </tr>\n",
       "    <tr>\n",
       "      <th>50%</th>\n",
       "      <td>8.500000</td>\n",
       "      <td>-73.981804</td>\n",
       "      <td>40.752660</td>\n",
       "      <td>-73.980110</td>\n",
       "      <td>40.753166</td>\n",
       "      <td>1.000000</td>\n",
       "    </tr>\n",
       "    <tr>\n",
       "      <th>75%</th>\n",
       "      <td>12.500000</td>\n",
       "      <td>-73.967090</td>\n",
       "      <td>40.767143</td>\n",
       "      <td>-73.963680</td>\n",
       "      <td>40.768140</td>\n",
       "      <td>2.000000</td>\n",
       "    </tr>\n",
       "    <tr>\n",
       "      <th>max</th>\n",
       "      <td>444.440000</td>\n",
       "      <td>40.813038</td>\n",
       "      <td>3334.677700</td>\n",
       "      <td>40.827824</td>\n",
       "      <td>458.650000</td>\n",
       "      <td>208.000000</td>\n",
       "    </tr>\n",
       "  </tbody>\n",
       "</table>\n",
       "</div>"
      ],
      "text/plain": [
       "         fare_amount  pickup_longitude  pickup_latitude  dropoff_longitude  \\\n",
       "count  553888.000000     553888.000000    553888.000000      553884.000000   \n",
       "mean       11.325466        -72.539418        39.910143         -72.531035   \n",
       "std         9.752500         15.121063         8.770774          13.238080   \n",
       "min       -52.000000      -3442.059600     -2145.906000       -3370.710400   \n",
       "25%         6.000000        -73.992080        40.734910         -73.991380   \n",
       "50%         8.500000        -73.981804        40.752660         -73.980110   \n",
       "75%        12.500000        -73.967090        40.767143         -73.963680   \n",
       "max       444.440000         40.813038      3334.677700          40.827824   \n",
       "\n",
       "       dropoff_latitude  passenger_count  \n",
       "count     553884.000000    553888.000000  \n",
       "mean          39.897806         1.687171  \n",
       "std            8.959665         1.339930  \n",
       "min        -2530.357400         0.000000  \n",
       "25%           40.733974         1.000000  \n",
       "50%           40.753166         1.000000  \n",
       "75%           40.768140         2.000000  \n",
       "max          458.650000       208.000000  "
      ]
     },
     "execution_count": 103,
     "metadata": {},
     "output_type": "execute_result"
    }
   ],
   "source": [
    "data_train.describe()"
   ]
  },
  {
   "cell_type": "code",
   "execution_count": null,
   "id": "4f81ce73",
   "metadata": {},
   "outputs": [],
   "source": []
  },
  {
   "cell_type": "code",
   "execution_count": 104,
   "id": "70e11b36",
   "metadata": {},
   "outputs": [
    {
     "data": {
      "text/html": [
       "<div>\n",
       "<style scoped>\n",
       "    .dataframe tbody tr th:only-of-type {\n",
       "        vertical-align: middle;\n",
       "    }\n",
       "\n",
       "    .dataframe tbody tr th {\n",
       "        vertical-align: top;\n",
       "    }\n",
       "\n",
       "    .dataframe thead th {\n",
       "        text-align: right;\n",
       "    }\n",
       "</style>\n",
       "<table border=\"1\" class=\"dataframe\">\n",
       "  <thead>\n",
       "    <tr style=\"text-align: right;\">\n",
       "      <th></th>\n",
       "      <th>pickup_longitude</th>\n",
       "      <th>pickup_latitude</th>\n",
       "      <th>dropoff_longitude</th>\n",
       "      <th>dropoff_latitude</th>\n",
       "      <th>passenger_count</th>\n",
       "      <th>pickup_datetime_year</th>\n",
       "      <th>pickup_datetime_month</th>\n",
       "      <th>pickup_datetime_day</th>\n",
       "      <th>pickup_datetime_weekday</th>\n",
       "      <th>pickup_datetime_hour</th>\n",
       "      <th>trip_distance</th>\n",
       "      <th>JKF_drop_distance</th>\n",
       "      <th>LGA_drop_distance</th>\n",
       "      <th>EWR_drop_distance</th>\n",
       "      <th>TME_drop_distance</th>\n",
       "      <th>MET_drop_distance</th>\n",
       "      <th>WTC_drop_distance</th>\n",
       "    </tr>\n",
       "  </thead>\n",
       "  <tbody>\n",
       "    <tr>\n",
       "      <th>count</th>\n",
       "      <td>9914.000000</td>\n",
       "      <td>9914.000000</td>\n",
       "      <td>9914.000000</td>\n",
       "      <td>9914.000000</td>\n",
       "      <td>9914.000000</td>\n",
       "      <td>9914.000000</td>\n",
       "      <td>9914.000000</td>\n",
       "      <td>9914.000000</td>\n",
       "      <td>9914.000000</td>\n",
       "      <td>9914.000000</td>\n",
       "      <td>9914.000000</td>\n",
       "      <td>9914.000000</td>\n",
       "      <td>9914.000000</td>\n",
       "      <td>9914.000000</td>\n",
       "      <td>9914.000000</td>\n",
       "      <td>9914.000000</td>\n",
       "      <td>9914.000000</td>\n",
       "    </tr>\n",
       "    <tr>\n",
       "      <th>mean</th>\n",
       "      <td>-73.976181</td>\n",
       "      <td>40.750954</td>\n",
       "      <td>-73.974945</td>\n",
       "      <td>40.751553</td>\n",
       "      <td>1.671273</td>\n",
       "      <td>2011.815816</td>\n",
       "      <td>6.857979</td>\n",
       "      <td>16.194170</td>\n",
       "      <td>2.852834</td>\n",
       "      <td>13.467420</td>\n",
       "      <td>3.433212</td>\n",
       "      <td>20.916758</td>\n",
       "      <td>9.675153</td>\n",
       "      <td>18.546644</td>\n",
       "      <td>3.435211</td>\n",
       "      <td>4.512908</td>\n",
       "      <td>6.037651</td>\n",
       "    </tr>\n",
       "    <tr>\n",
       "      <th>std</th>\n",
       "      <td>0.042799</td>\n",
       "      <td>0.033542</td>\n",
       "      <td>0.039093</td>\n",
       "      <td>0.035436</td>\n",
       "      <td>1.278747</td>\n",
       "      <td>1.803347</td>\n",
       "      <td>3.353272</td>\n",
       "      <td>8.838482</td>\n",
       "      <td>1.994451</td>\n",
       "      <td>6.868584</td>\n",
       "      <td>3.969877</td>\n",
       "      <td>3.303940</td>\n",
       "      <td>3.295646</td>\n",
       "      <td>4.035816</td>\n",
       "      <td>3.996561</td>\n",
       "      <td>4.018421</td>\n",
       "      <td>4.252535</td>\n",
       "    </tr>\n",
       "    <tr>\n",
       "      <th>min</th>\n",
       "      <td>-74.252190</td>\n",
       "      <td>40.573143</td>\n",
       "      <td>-74.263245</td>\n",
       "      <td>40.568974</td>\n",
       "      <td>1.000000</td>\n",
       "      <td>2009.000000</td>\n",
       "      <td>1.000000</td>\n",
       "      <td>1.000000</td>\n",
       "      <td>0.000000</td>\n",
       "      <td>0.000000</td>\n",
       "      <td>0.000000</td>\n",
       "      <td>0.401900</td>\n",
       "      <td>0.285629</td>\n",
       "      <td>0.284680</td>\n",
       "      <td>0.020707</td>\n",
       "      <td>0.085747</td>\n",
       "      <td>0.040269</td>\n",
       "    </tr>\n",
       "    <tr>\n",
       "      <th>25%</th>\n",
       "      <td>-73.992500</td>\n",
       "      <td>40.736125</td>\n",
       "      <td>-73.991249</td>\n",
       "      <td>40.735253</td>\n",
       "      <td>1.000000</td>\n",
       "      <td>2010.000000</td>\n",
       "      <td>4.000000</td>\n",
       "      <td>9.000000</td>\n",
       "      <td>1.000000</td>\n",
       "      <td>8.000000</td>\n",
       "      <td>1.297261</td>\n",
       "      <td>20.513337</td>\n",
       "      <td>8.311565</td>\n",
       "      <td>16.520517</td>\n",
       "      <td>1.269973</td>\n",
       "      <td>2.126287</td>\n",
       "      <td>3.670107</td>\n",
       "    </tr>\n",
       "    <tr>\n",
       "      <th>50%</th>\n",
       "      <td>-73.982327</td>\n",
       "      <td>40.753052</td>\n",
       "      <td>-73.980015</td>\n",
       "      <td>40.754065</td>\n",
       "      <td>1.000000</td>\n",
       "      <td>2012.000000</td>\n",
       "      <td>7.000000</td>\n",
       "      <td>16.000000</td>\n",
       "      <td>3.000000</td>\n",
       "      <td>15.000000</td>\n",
       "      <td>2.215648</td>\n",
       "      <td>21.181472</td>\n",
       "      <td>9.477797</td>\n",
       "      <td>18.024350</td>\n",
       "      <td>2.570288</td>\n",
       "      <td>3.698123</td>\n",
       "      <td>5.541466</td>\n",
       "    </tr>\n",
       "    <tr>\n",
       "      <th>75%</th>\n",
       "      <td>-73.968012</td>\n",
       "      <td>40.767113</td>\n",
       "      <td>-73.964062</td>\n",
       "      <td>40.768757</td>\n",
       "      <td>2.000000</td>\n",
       "      <td>2014.000000</td>\n",
       "      <td>10.000000</td>\n",
       "      <td>25.000000</td>\n",
       "      <td>5.000000</td>\n",
       "      <td>19.000000</td>\n",
       "      <td>4.043051</td>\n",
       "      <td>21.909794</td>\n",
       "      <td>10.965272</td>\n",
       "      <td>19.880536</td>\n",
       "      <td>4.129103</td>\n",
       "      <td>5.922544</td>\n",
       "      <td>7.757612</td>\n",
       "    </tr>\n",
       "    <tr>\n",
       "      <th>max</th>\n",
       "      <td>-72.986534</td>\n",
       "      <td>41.709557</td>\n",
       "      <td>-72.990967</td>\n",
       "      <td>41.696682</td>\n",
       "      <td>6.000000</td>\n",
       "      <td>2015.000000</td>\n",
       "      <td>12.000000</td>\n",
       "      <td>31.000000</td>\n",
       "      <td>6.000000</td>\n",
       "      <td>23.000000</td>\n",
       "      <td>99.933281</td>\n",
       "      <td>134.497726</td>\n",
       "      <td>126.062576</td>\n",
       "      <td>149.400787</td>\n",
       "      <td>133.376190</td>\n",
       "      <td>130.347153</td>\n",
       "      <td>138.619492</td>\n",
       "    </tr>\n",
       "  </tbody>\n",
       "</table>\n",
       "</div>"
      ],
      "text/plain": [
       "       pickup_longitude  pickup_latitude  dropoff_longitude  dropoff_latitude  \\\n",
       "count       9914.000000      9914.000000        9914.000000       9914.000000   \n",
       "mean         -73.976181        40.750954         -73.974945         40.751553   \n",
       "std            0.042799         0.033542           0.039093          0.035436   \n",
       "min          -74.252190        40.573143         -74.263245         40.568974   \n",
       "25%          -73.992500        40.736125         -73.991249         40.735253   \n",
       "50%          -73.982327        40.753052         -73.980015         40.754065   \n",
       "75%          -73.968012        40.767113         -73.964062         40.768757   \n",
       "max          -72.986534        41.709557         -72.990967         41.696682   \n",
       "\n",
       "       passenger_count  pickup_datetime_year  pickup_datetime_month  \\\n",
       "count      9914.000000           9914.000000            9914.000000   \n",
       "mean          1.671273           2011.815816               6.857979   \n",
       "std           1.278747              1.803347               3.353272   \n",
       "min           1.000000           2009.000000               1.000000   \n",
       "25%           1.000000           2010.000000               4.000000   \n",
       "50%           1.000000           2012.000000               7.000000   \n",
       "75%           2.000000           2014.000000              10.000000   \n",
       "max           6.000000           2015.000000              12.000000   \n",
       "\n",
       "       pickup_datetime_day  pickup_datetime_weekday  pickup_datetime_hour  \\\n",
       "count          9914.000000              9914.000000           9914.000000   \n",
       "mean             16.194170                 2.852834             13.467420   \n",
       "std               8.838482                 1.994451              6.868584   \n",
       "min               1.000000                 0.000000              0.000000   \n",
       "25%               9.000000                 1.000000              8.000000   \n",
       "50%              16.000000                 3.000000             15.000000   \n",
       "75%              25.000000                 5.000000             19.000000   \n",
       "max              31.000000                 6.000000             23.000000   \n",
       "\n",
       "       trip_distance  JKF_drop_distance  LGA_drop_distance  EWR_drop_distance  \\\n",
       "count    9914.000000        9914.000000        9914.000000        9914.000000   \n",
       "mean        3.433212          20.916758           9.675153          18.546644   \n",
       "std         3.969877           3.303940           3.295646           4.035816   \n",
       "min         0.000000           0.401900           0.285629           0.284680   \n",
       "25%         1.297261          20.513337           8.311565          16.520517   \n",
       "50%         2.215648          21.181472           9.477797          18.024350   \n",
       "75%         4.043051          21.909794          10.965272          19.880536   \n",
       "max        99.933281         134.497726         126.062576         149.400787   \n",
       "\n",
       "       TME_drop_distance  MET_drop_distance  WTC_drop_distance  \n",
       "count        9914.000000        9914.000000        9914.000000  \n",
       "mean            3.435211           4.512908           6.037651  \n",
       "std             3.996561           4.018421           4.252535  \n",
       "min             0.020707           0.085747           0.040269  \n",
       "25%             1.269973           2.126287           3.670107  \n",
       "50%             2.570288           3.698123           5.541466  \n",
       "75%             4.129103           5.922544           7.757612  \n",
       "max           133.376190         130.347153         138.619492  "
      ]
     },
     "execution_count": 104,
     "metadata": {},
     "output_type": "execute_result"
    }
   ],
   "source": [
    "data_test.describe()"
   ]
  },
  {
   "cell_type": "code",
   "execution_count": 105,
   "id": "e1ca38cb",
   "metadata": {},
   "outputs": [],
   "source": [
    "# limiting the values\n",
    "#     fare_amount = 1 to 500\n",
    "#     longitude = -75 to -72\n",
    "#     latitude = 40 to 42\n",
    "#     passenger = 1 to 6"
   ]
  },
  {
   "cell_type": "code",
   "execution_count": 106,
   "id": "1b4c3f34",
   "metadata": {},
   "outputs": [],
   "source": [
    "def remove_outliers(df):\n",
    "    return df[(df['pickup_longitude']>=-75)\n",
    "             & (df['pickup_longitude']<=-72)\n",
    "             & (df['dropoff_longitude']>=-75)\n",
    "             & (df['dropoff_longitude']<=-72)\n",
    "             & (df['pickup_latitude']>=40)\n",
    "             & (df['pickup_latitude']<=42)\n",
    "             & (df['dropoff_latitude']>=40)\n",
    "             & (df['dropoff_latitude']<=42)\n",
    "             & (df['passenger_count']>=1)\n",
    "             & (df['passenger_count']<=6)\n",
    "             & (df['fare_amount']>=1)\n",
    "             & (df['fare_amount']<=500)]"
   ]
  },
  {
   "cell_type": "code",
   "execution_count": 107,
   "id": "28235559",
   "metadata": {},
   "outputs": [],
   "source": [
    "train_df=remove_outliers(train_df)"
   ]
  },
  {
   "cell_type": "code",
   "execution_count": 108,
   "id": "78dd5642",
   "metadata": {},
   "outputs": [],
   "source": [
    "val_df = remove_outliers(val_df)"
   ]
  },
  {
   "cell_type": "markdown",
   "id": "e9420af7",
   "metadata": {},
   "source": [
    "# Train and Evaluate different models"
   ]
  },
  {
   "cell_type": "code",
   "execution_count": 109,
   "id": "42ad1c64",
   "metadata": {},
   "outputs": [
    {
     "data": {
      "text/plain": [
       "Index(['fare_amount', 'pickup_datetime', 'pickup_longitude', 'pickup_latitude',\n",
       "       'dropoff_longitude', 'dropoff_latitude', 'passenger_count',\n",
       "       'pickup_datetime_year', 'pickup_datetime_month', 'pickup_datetime_day',\n",
       "       'pickup_datetime_weekday', 'pickup_datetime_hour', 'trip_distance',\n",
       "       'JKF_drop_distance', 'LGA_drop_distance', 'EWR_drop_distance',\n",
       "       'TME_drop_distance', 'MET_drop_distance', 'WTC_drop_distance'],\n",
       "      dtype='object')"
      ]
     },
     "execution_count": 109,
     "metadata": {},
     "output_type": "execute_result"
    }
   ],
   "source": [
    "train_df.columns"
   ]
  },
  {
   "cell_type": "code",
   "execution_count": 110,
   "id": "e0e33d05",
   "metadata": {},
   "outputs": [
    {
     "data": {
      "text/plain": [
       "Index(['pickup_longitude', 'pickup_latitude', 'dropoff_longitude',\n",
       "       'dropoff_latitude', 'passenger_count'],\n",
       "      dtype='object')"
      ]
     },
     "execution_count": 110,
     "metadata": {},
     "output_type": "execute_result"
    }
   ],
   "source": [
    "train_inputs.columns"
   ]
  },
  {
   "cell_type": "code",
   "execution_count": null,
   "id": "3484cee8",
   "metadata": {},
   "outputs": [],
   "source": []
  },
  {
   "cell_type": "code",
   "execution_count": null,
   "id": "0fe19208",
   "metadata": {},
   "outputs": [],
   "source": []
  },
  {
   "cell_type": "code",
   "execution_count": 111,
   "id": "34b4aa63",
   "metadata": {},
   "outputs": [],
   "source": [
    "input_cols = ['pickup_longitude', 'pickup_latitude',\n",
    "       'dropoff_longitude', 'dropoff_latitude', 'passenger_count',\n",
    "       'pickup_datetime_year', 'pickup_datetime_month', 'pickup_datetime_day',\n",
    "       'pickup_datetime_weekday', 'pickup_datetime_hour', 'trip_distance',\n",
    "       'JKF_drop_distance', 'LGA_drop_distance', 'EWR_drop_distance',\n",
    "       'TME_drop_distance', 'MET_drop_distance', 'WTC_drop_distance']"
   ]
  },
  {
   "cell_type": "code",
   "execution_count": null,
   "id": "16ce7d01",
   "metadata": {},
   "outputs": [],
   "source": []
  },
  {
   "cell_type": "code",
   "execution_count": 112,
   "id": "337abdcf",
   "metadata": {},
   "outputs": [
    {
     "data": {
      "text/plain": [
       "['fare_amount']"
      ]
     },
     "execution_count": 112,
     "metadata": {},
     "output_type": "execute_result"
    }
   ],
   "source": [
    "target_col"
   ]
  },
  {
   "cell_type": "code",
   "execution_count": null,
   "id": "e5baa3ea",
   "metadata": {},
   "outputs": [],
   "source": []
  },
  {
   "cell_type": "code",
   "execution_count": 113,
   "id": "fac41e31",
   "metadata": {},
   "outputs": [],
   "source": [
    "train_inputs = train_df[input_cols]"
   ]
  },
  {
   "cell_type": "code",
   "execution_count": null,
   "id": "ca152024",
   "metadata": {},
   "outputs": [],
   "source": []
  },
  {
   "cell_type": "code",
   "execution_count": 114,
   "id": "f28960ba",
   "metadata": {},
   "outputs": [],
   "source": [
    "train_targets = train_df[target_col]"
   ]
  },
  {
   "cell_type": "code",
   "execution_count": 115,
   "id": "4a849cc4",
   "metadata": {},
   "outputs": [
    {
     "data": {
      "text/html": [
       "<div>\n",
       "<style scoped>\n",
       "    .dataframe tbody tr th:only-of-type {\n",
       "        vertical-align: middle;\n",
       "    }\n",
       "\n",
       "    .dataframe tbody tr th {\n",
       "        vertical-align: top;\n",
       "    }\n",
       "\n",
       "    .dataframe thead th {\n",
       "        text-align: right;\n",
       "    }\n",
       "</style>\n",
       "<table border=\"1\" class=\"dataframe\">\n",
       "  <thead>\n",
       "    <tr style=\"text-align: right;\">\n",
       "      <th></th>\n",
       "      <th>fare_amount</th>\n",
       "    </tr>\n",
       "  </thead>\n",
       "  <tbody>\n",
       "    <tr>\n",
       "      <th>159962</th>\n",
       "      <td>10.0</td>\n",
       "    </tr>\n",
       "    <tr>\n",
       "      <th>239519</th>\n",
       "      <td>5.7</td>\n",
       "    </tr>\n",
       "    <tr>\n",
       "      <th>55333</th>\n",
       "      <td>8.0</td>\n",
       "    </tr>\n",
       "    <tr>\n",
       "      <th>21154</th>\n",
       "      <td>19.3</td>\n",
       "    </tr>\n",
       "    <tr>\n",
       "      <th>257163</th>\n",
       "      <td>6.5</td>\n",
       "    </tr>\n",
       "    <tr>\n",
       "      <th>...</th>\n",
       "      <td>...</td>\n",
       "    </tr>\n",
       "    <tr>\n",
       "      <th>110268</th>\n",
       "      <td>9.7</td>\n",
       "    </tr>\n",
       "    <tr>\n",
       "      <th>259178</th>\n",
       "      <td>4.5</td>\n",
       "    </tr>\n",
       "    <tr>\n",
       "      <th>365838</th>\n",
       "      <td>5.0</td>\n",
       "    </tr>\n",
       "    <tr>\n",
       "      <th>131932</th>\n",
       "      <td>6.9</td>\n",
       "    </tr>\n",
       "    <tr>\n",
       "      <th>121958</th>\n",
       "      <td>7.3</td>\n",
       "    </tr>\n",
       "  </tbody>\n",
       "</table>\n",
       "<p>432166 rows × 1 columns</p>\n",
       "</div>"
      ],
      "text/plain": [
       "        fare_amount\n",
       "159962         10.0\n",
       "239519          5.7\n",
       "55333           8.0\n",
       "21154          19.3\n",
       "257163          6.5\n",
       "...             ...\n",
       "110268          9.7\n",
       "259178          4.5\n",
       "365838          5.0\n",
       "131932          6.9\n",
       "121958          7.3\n",
       "\n",
       "[432166 rows x 1 columns]"
      ]
     },
     "execution_count": 115,
     "metadata": {},
     "output_type": "execute_result"
    }
   ],
   "source": [
    "train_targets"
   ]
  },
  {
   "cell_type": "code",
   "execution_count": null,
   "id": "85d326d0",
   "metadata": {},
   "outputs": [],
   "source": []
  },
  {
   "cell_type": "code",
   "execution_count": null,
   "id": "bd3f7f9c",
   "metadata": {},
   "outputs": [],
   "source": []
  },
  {
   "cell_type": "code",
   "execution_count": null,
   "id": "dc385180",
   "metadata": {},
   "outputs": [],
   "source": []
  },
  {
   "cell_type": "code",
   "execution_count": null,
   "id": "0af18621",
   "metadata": {},
   "outputs": [],
   "source": []
  },
  {
   "cell_type": "code",
   "execution_count": null,
   "id": "25b12ca8",
   "metadata": {},
   "outputs": [],
   "source": []
  },
  {
   "cell_type": "code",
   "execution_count": 116,
   "id": "c2596b6e",
   "metadata": {},
   "outputs": [],
   "source": [
    "val_inputs = val_df[input_cols]"
   ]
  },
  {
   "cell_type": "code",
   "execution_count": null,
   "id": "34f4abe6",
   "metadata": {},
   "outputs": [],
   "source": []
  },
  {
   "cell_type": "code",
   "execution_count": 117,
   "id": "bec87f8e",
   "metadata": {},
   "outputs": [],
   "source": [
    "val_targets = val_df[target_col]"
   ]
  },
  {
   "cell_type": "code",
   "execution_count": 118,
   "id": "3bb0ae0c",
   "metadata": {},
   "outputs": [],
   "source": [
    "test_inputs = data_test[input_cols]"
   ]
  },
  {
   "cell_type": "code",
   "execution_count": null,
   "id": "9dbfcd40",
   "metadata": {},
   "outputs": [],
   "source": []
  },
  {
   "cell_type": "code",
   "execution_count": 119,
   "id": "18d89017",
   "metadata": {},
   "outputs": [],
   "source": [
    "# helper function to evaluate models"
   ]
  },
  {
   "cell_type": "code",
   "execution_count": 120,
   "id": "b83a2eb5",
   "metadata": {},
   "outputs": [],
   "source": [
    "def evaluate(model):\n",
    "    train_pred = model.predict(train_inputs)\n",
    "    train_rmse = mean_squared_error(train_targets,train_pred,squared=False)\n",
    "    val_pred = model.predict(val_inputs)\n",
    "    val_rmse = mean_squared_error(val_targets,val_pred,squared=False)\n",
    "    return train_rmse,val_rmse,train_pred,val_pred"
   ]
  },
  {
   "cell_type": "code",
   "execution_count": null,
   "id": "8ac5dd1c",
   "metadata": {},
   "outputs": [],
   "source": []
  },
  {
   "cell_type": "markdown",
   "id": "221da6ba",
   "metadata": {},
   "source": [
    "# Ridge Regression"
   ]
  },
  {
   "cell_type": "code",
   "execution_count": 121,
   "id": "e399a3d8",
   "metadata": {},
   "outputs": [],
   "source": [
    "from sklearn.linear_model import Ridge"
   ]
  },
  {
   "cell_type": "code",
   "execution_count": 122,
   "id": "f3221e11",
   "metadata": {},
   "outputs": [],
   "source": [
    "ridge_model = Ridge(random_state = 42,alpha= 0.9)"
   ]
  },
  {
   "cell_type": "code",
   "execution_count": null,
   "id": "e6214cef",
   "metadata": {},
   "outputs": [],
   "source": []
  },
  {
   "cell_type": "code",
   "execution_count": 123,
   "id": "9773a036",
   "metadata": {},
   "outputs": [
    {
     "data": {
      "text/plain": [
       "Ridge(alpha=0.9, random_state=42)"
      ]
     },
     "execution_count": 123,
     "metadata": {},
     "output_type": "execute_result"
    }
   ],
   "source": [
    "ridge_model.fit(train_inputs,train_targets)"
   ]
  },
  {
   "cell_type": "code",
   "execution_count": null,
   "id": "6df6da1e",
   "metadata": {},
   "outputs": [],
   "source": []
  },
  {
   "cell_type": "code",
   "execution_count": null,
   "id": "954e91dc",
   "metadata": {},
   "outputs": [],
   "source": []
  },
  {
   "cell_type": "code",
   "execution_count": 124,
   "id": "0d7ecb15",
   "metadata": {},
   "outputs": [
    {
     "data": {
      "text/plain": [
       "(5.20897271816812,\n",
       " 5.200847779718783,\n",
       " array([[ 7.25363487],\n",
       "        [ 6.54336603],\n",
       "        [ 8.83202592],\n",
       "        ...,\n",
       "        [ 8.56325779],\n",
       "        [10.24139059],\n",
       "        [ 6.16323898]]),\n",
       " array([[ 6.08034366],\n",
       "        [11.93485118],\n",
       "        [25.74308578],\n",
       "        ...,\n",
       "        [25.37723424],\n",
       "        [14.31972944],\n",
       "        [13.23108208]]))"
      ]
     },
     "execution_count": 124,
     "metadata": {},
     "output_type": "execute_result"
    }
   ],
   "source": [
    "evaluate(ridge_model)"
   ]
  },
  {
   "cell_type": "code",
   "execution_count": 125,
   "id": "34fb5194",
   "metadata": {},
   "outputs": [],
   "source": [
    "# saving the predicted data"
   ]
  },
  {
   "cell_type": "code",
   "execution_count": 126,
   "id": "0bde173e",
   "metadata": {},
   "outputs": [
    {
     "data": {
      "text/html": [
       "<div>\n",
       "<style scoped>\n",
       "    .dataframe tbody tr th:only-of-type {\n",
       "        vertical-align: middle;\n",
       "    }\n",
       "\n",
       "    .dataframe tbody tr th {\n",
       "        vertical-align: top;\n",
       "    }\n",
       "\n",
       "    .dataframe thead th {\n",
       "        text-align: right;\n",
       "    }\n",
       "</style>\n",
       "<table border=\"1\" class=\"dataframe\">\n",
       "  <thead>\n",
       "    <tr style=\"text-align: right;\">\n",
       "      <th></th>\n",
       "      <th>key</th>\n",
       "      <th>fare_amount</th>\n",
       "    </tr>\n",
       "  </thead>\n",
       "  <tbody>\n",
       "    <tr>\n",
       "      <th>0</th>\n",
       "      <td>2015-01-27 13:08:24.0000002</td>\n",
       "      <td>10.331414</td>\n",
       "    </tr>\n",
       "    <tr>\n",
       "      <th>1</th>\n",
       "      <td>2015-01-27 13:08:24.0000003</td>\n",
       "      <td>11.604271</td>\n",
       "    </tr>\n",
       "    <tr>\n",
       "      <th>2</th>\n",
       "      <td>2011-10-08 11:53:44.0000002</td>\n",
       "      <td>5.754653</td>\n",
       "    </tr>\n",
       "    <tr>\n",
       "      <th>3</th>\n",
       "      <td>2012-12-01 21:12:12.0000002</td>\n",
       "      <td>9.119327</td>\n",
       "    </tr>\n",
       "    <tr>\n",
       "      <th>4</th>\n",
       "      <td>2012-12-01 21:12:12.0000003</td>\n",
       "      <td>14.513145</td>\n",
       "    </tr>\n",
       "    <tr>\n",
       "      <th>...</th>\n",
       "      <td>...</td>\n",
       "      <td>...</td>\n",
       "    </tr>\n",
       "    <tr>\n",
       "      <th>9909</th>\n",
       "      <td>2015-05-10 12:37:51.0000002</td>\n",
       "      <td>8.381164</td>\n",
       "    </tr>\n",
       "    <tr>\n",
       "      <th>9910</th>\n",
       "      <td>2015-01-12 17:05:51.0000001</td>\n",
       "      <td>10.555876</td>\n",
       "    </tr>\n",
       "    <tr>\n",
       "      <th>9911</th>\n",
       "      <td>2015-04-19 20:44:15.0000001</td>\n",
       "      <td>47.774772</td>\n",
       "    </tr>\n",
       "    <tr>\n",
       "      <th>9912</th>\n",
       "      <td>2015-01-31 01:05:19.0000005</td>\n",
       "      <td>22.166441</td>\n",
       "    </tr>\n",
       "    <tr>\n",
       "      <th>9913</th>\n",
       "      <td>2015-01-18 14:06:23.0000006</td>\n",
       "      <td>9.429585</td>\n",
       "    </tr>\n",
       "  </tbody>\n",
       "</table>\n",
       "<p>9914 rows × 2 columns</p>\n",
       "</div>"
      ],
      "text/plain": [
       "                              key  fare_amount\n",
       "0     2015-01-27 13:08:24.0000002    10.331414\n",
       "1     2015-01-27 13:08:24.0000003    11.604271\n",
       "2     2011-10-08 11:53:44.0000002     5.754653\n",
       "3     2012-12-01 21:12:12.0000002     9.119327\n",
       "4     2012-12-01 21:12:12.0000003    14.513145\n",
       "...                           ...          ...\n",
       "9909  2015-05-10 12:37:51.0000002     8.381164\n",
       "9910  2015-01-12 17:05:51.0000001    10.555876\n",
       "9911  2015-04-19 20:44:15.0000001    47.774772\n",
       "9912  2015-01-31 01:05:19.0000005    22.166441\n",
       "9913  2015-01-18 14:06:23.0000006     9.429585\n",
       "\n",
       "[9914 rows x 2 columns]"
      ]
     },
     "execution_count": 126,
     "metadata": {},
     "output_type": "execute_result"
    }
   ],
   "source": [
    "predict_and_submit(ridge_model,test_inputs,'ridge_model_submission.csv')"
   ]
  },
  {
   "cell_type": "code",
   "execution_count": null,
   "id": "ef82e35c",
   "metadata": {},
   "outputs": [],
   "source": []
  },
  {
   "cell_type": "markdown",
   "id": "f1c4b85a",
   "metadata": {},
   "source": [
    "# Random Forest"
   ]
  },
  {
   "cell_type": "code",
   "execution_count": 127,
   "id": "b2c0b899",
   "metadata": {},
   "outputs": [],
   "source": [
    "from sklearn.ensemble import RandomForestRegressor"
   ]
  },
  {
   "cell_type": "code",
   "execution_count": 128,
   "id": "a5f63fbe",
   "metadata": {},
   "outputs": [],
   "source": [
    "randomfor_model = RandomForestRegressor(random_state=42,n_jobs=-1, n_estimators=100,max_depth=10)"
   ]
  },
  {
   "cell_type": "code",
   "execution_count": 129,
   "id": "076295c5",
   "metadata": {},
   "outputs": [
    {
     "name": "stderr",
     "output_type": "stream",
     "text": [
      "<ipython-input-129-47fdb4d8fdf7>:1: DataConversionWarning: A column-vector y was passed when a 1d array was expected. Please change the shape of y to (n_samples,), for example using ravel().\n",
      "  randomfor_model.fit(train_inputs,train_targets)\n"
     ]
    },
    {
     "data": {
      "text/plain": [
       "RandomForestRegressor(max_depth=10, n_jobs=-1, random_state=42)"
      ]
     },
     "execution_count": 129,
     "metadata": {},
     "output_type": "execute_result"
    }
   ],
   "source": [
    "randomfor_model.fit(train_inputs,train_targets)"
   ]
  },
  {
   "cell_type": "code",
   "execution_count": 130,
   "id": "515c980c",
   "metadata": {},
   "outputs": [
    {
     "data": {
      "text/plain": [
       "(3.5602071617098,\n",
       " 4.150282269442736,\n",
       " array([7.99128706, 6.48981556, 9.07339672, ..., 6.41863548, 8.08693132,\n",
       "        6.92386098]),\n",
       " array([ 5.38115646, 13.50792636, 29.38710439, ..., 39.26905543,\n",
       "        15.36998618, 16.23239529]))"
      ]
     },
     "execution_count": 130,
     "metadata": {},
     "output_type": "execute_result"
    }
   ],
   "source": [
    "evaluate(randomfor_model)"
   ]
  },
  {
   "cell_type": "code",
   "execution_count": null,
   "id": "691f4fbe",
   "metadata": {},
   "outputs": [],
   "source": []
  },
  {
   "cell_type": "code",
   "execution_count": 131,
   "id": "48fd603c",
   "metadata": {},
   "outputs": [
    {
     "data": {
      "text/html": [
       "<div>\n",
       "<style scoped>\n",
       "    .dataframe tbody tr th:only-of-type {\n",
       "        vertical-align: middle;\n",
       "    }\n",
       "\n",
       "    .dataframe tbody tr th {\n",
       "        vertical-align: top;\n",
       "    }\n",
       "\n",
       "    .dataframe thead th {\n",
       "        text-align: right;\n",
       "    }\n",
       "</style>\n",
       "<table border=\"1\" class=\"dataframe\">\n",
       "  <thead>\n",
       "    <tr style=\"text-align: right;\">\n",
       "      <th></th>\n",
       "      <th>key</th>\n",
       "      <th>fare_amount</th>\n",
       "    </tr>\n",
       "  </thead>\n",
       "  <tbody>\n",
       "    <tr>\n",
       "      <th>0</th>\n",
       "      <td>2015-01-27 13:08:24.0000002</td>\n",
       "      <td>9.686809</td>\n",
       "    </tr>\n",
       "    <tr>\n",
       "      <th>1</th>\n",
       "      <td>2015-01-27 13:08:24.0000003</td>\n",
       "      <td>10.614177</td>\n",
       "    </tr>\n",
       "    <tr>\n",
       "      <th>2</th>\n",
       "      <td>2011-10-08 11:53:44.0000002</td>\n",
       "      <td>5.009783</td>\n",
       "    </tr>\n",
       "    <tr>\n",
       "      <th>3</th>\n",
       "      <td>2012-12-01 21:12:12.0000002</td>\n",
       "      <td>8.486852</td>\n",
       "    </tr>\n",
       "    <tr>\n",
       "      <th>4</th>\n",
       "      <td>2012-12-01 21:12:12.0000003</td>\n",
       "      <td>15.272647</td>\n",
       "    </tr>\n",
       "    <tr>\n",
       "      <th>...</th>\n",
       "      <td>...</td>\n",
       "      <td>...</td>\n",
       "    </tr>\n",
       "    <tr>\n",
       "      <th>9909</th>\n",
       "      <td>2015-05-10 12:37:51.0000002</td>\n",
       "      <td>8.975906</td>\n",
       "    </tr>\n",
       "    <tr>\n",
       "      <th>9910</th>\n",
       "      <td>2015-01-12 17:05:51.0000001</td>\n",
       "      <td>13.436910</td>\n",
       "    </tr>\n",
       "    <tr>\n",
       "      <th>9911</th>\n",
       "      <td>2015-04-19 20:44:15.0000001</td>\n",
       "      <td>55.568954</td>\n",
       "    </tr>\n",
       "    <tr>\n",
       "      <th>9912</th>\n",
       "      <td>2015-01-31 01:05:19.0000005</td>\n",
       "      <td>21.901466</td>\n",
       "    </tr>\n",
       "    <tr>\n",
       "      <th>9913</th>\n",
       "      <td>2015-01-18 14:06:23.0000006</td>\n",
       "      <td>7.681771</td>\n",
       "    </tr>\n",
       "  </tbody>\n",
       "</table>\n",
       "<p>9914 rows × 2 columns</p>\n",
       "</div>"
      ],
      "text/plain": [
       "                              key  fare_amount\n",
       "0     2015-01-27 13:08:24.0000002     9.686809\n",
       "1     2015-01-27 13:08:24.0000003    10.614177\n",
       "2     2011-10-08 11:53:44.0000002     5.009783\n",
       "3     2012-12-01 21:12:12.0000002     8.486852\n",
       "4     2012-12-01 21:12:12.0000003    15.272647\n",
       "...                           ...          ...\n",
       "9909  2015-05-10 12:37:51.0000002     8.975906\n",
       "9910  2015-01-12 17:05:51.0000001    13.436910\n",
       "9911  2015-04-19 20:44:15.0000001    55.568954\n",
       "9912  2015-01-31 01:05:19.0000005    21.901466\n",
       "9913  2015-01-18 14:06:23.0000006     7.681771\n",
       "\n",
       "[9914 rows x 2 columns]"
      ]
     },
     "execution_count": 131,
     "metadata": {},
     "output_type": "execute_result"
    }
   ],
   "source": [
    "predict_and_submit(randomfor_model,test_inputs,'random_model_submission.csv')"
   ]
  },
  {
   "cell_type": "markdown",
   "id": "eebe38b2",
   "metadata": {},
   "source": [
    "# Gradient Boosting"
   ]
  },
  {
   "cell_type": "code",
   "execution_count": 132,
   "id": "64904676",
   "metadata": {},
   "outputs": [],
   "source": [
    "from xgboost import XGBRFRegressor"
   ]
  },
  {
   "cell_type": "code",
   "execution_count": 133,
   "id": "b54e0a63",
   "metadata": {},
   "outputs": [],
   "source": [
    "grad_model = XGBRFRegressor(max_depth = 5,objective = 'reg:squarederror',n_estimators =200, random_state = 42,n_jobs = -1)"
   ]
  },
  {
   "cell_type": "code",
   "execution_count": null,
   "id": "5920a042",
   "metadata": {},
   "outputs": [],
   "source": []
  },
  {
   "cell_type": "code",
   "execution_count": 134,
   "id": "069393d3",
   "metadata": {},
   "outputs": [
    {
     "data": {
      "text/plain": [
       "XGBRFRegressor(base_score=0.5, booster='gbtree', callbacks=None,\n",
       "               colsample_bylevel=1, colsample_bytree=1,\n",
       "               early_stopping_rounds=None, enable_categorical=False,\n",
       "               eval_metric=None, gamma=0, gpu_id=-1, grow_policy='depthwise',\n",
       "               importance_type=None, interaction_constraints='', max_bin=256,\n",
       "               max_cat_to_onehot=4, max_delta_step=0, max_depth=5, max_leaves=0,\n",
       "               min_child_weight=1, missing=nan, monotone_constraints='()',\n",
       "               n_estimators=200, n_jobs=-1, num_parallel_tree=200,\n",
       "               objective='reg:squarederror', predictor='auto', random_state=42,\n",
       "               reg_alpha=0, sampling_method='uniform', scale_pos_weight=1, ...)"
      ]
     },
     "execution_count": 134,
     "metadata": {},
     "output_type": "execute_result"
    }
   ],
   "source": [
    "grad_model.fit(train_inputs,train_targets)"
   ]
  },
  {
   "cell_type": "code",
   "execution_count": null,
   "id": "43f06c1b",
   "metadata": {},
   "outputs": [],
   "source": []
  },
  {
   "cell_type": "code",
   "execution_count": 135,
   "id": "d5c59ace",
   "metadata": {},
   "outputs": [
    {
     "data": {
      "text/plain": [
       "(4.381207803290297,\n",
       " 4.486624056103613,\n",
       " array([8.11379  , 6.1973367, 9.227623 , ..., 6.200217 , 8.16147  ,\n",
       "        6.208863 ], dtype=float32),\n",
       " array([ 6.200217, 13.221382, 27.353092, ..., 34.70356 , 14.963135,\n",
       "        13.967027], dtype=float32))"
      ]
     },
     "execution_count": 135,
     "metadata": {},
     "output_type": "execute_result"
    }
   ],
   "source": [
    "evaluate(grad_model)"
   ]
  },
  {
   "cell_type": "code",
   "execution_count": null,
   "id": "936dfcb8",
   "metadata": {},
   "outputs": [],
   "source": []
  },
  {
   "cell_type": "code",
   "execution_count": 136,
   "id": "383a7557",
   "metadata": {},
   "outputs": [
    {
     "data": {
      "text/html": [
       "<div>\n",
       "<style scoped>\n",
       "    .dataframe tbody tr th:only-of-type {\n",
       "        vertical-align: middle;\n",
       "    }\n",
       "\n",
       "    .dataframe tbody tr th {\n",
       "        vertical-align: top;\n",
       "    }\n",
       "\n",
       "    .dataframe thead th {\n",
       "        text-align: right;\n",
       "    }\n",
       "</style>\n",
       "<table border=\"1\" class=\"dataframe\">\n",
       "  <thead>\n",
       "    <tr style=\"text-align: right;\">\n",
       "      <th></th>\n",
       "      <th>key</th>\n",
       "      <th>fare_amount</th>\n",
       "    </tr>\n",
       "  </thead>\n",
       "  <tbody>\n",
       "    <tr>\n",
       "      <th>0</th>\n",
       "      <td>2015-01-27 13:08:24.0000002</td>\n",
       "      <td>9.281945</td>\n",
       "    </tr>\n",
       "    <tr>\n",
       "      <th>1</th>\n",
       "      <td>2015-01-27 13:08:24.0000003</td>\n",
       "      <td>9.870304</td>\n",
       "    </tr>\n",
       "    <tr>\n",
       "      <th>2</th>\n",
       "      <td>2011-10-08 11:53:44.0000002</td>\n",
       "      <td>6.182840</td>\n",
       "    </tr>\n",
       "    <tr>\n",
       "      <th>3</th>\n",
       "      <td>2012-12-01 21:12:12.0000002</td>\n",
       "      <td>8.113790</td>\n",
       "    </tr>\n",
       "    <tr>\n",
       "      <th>4</th>\n",
       "      <td>2012-12-01 21:12:12.0000003</td>\n",
       "      <td>14.575932</td>\n",
       "    </tr>\n",
       "    <tr>\n",
       "      <th>...</th>\n",
       "      <td>...</td>\n",
       "      <td>...</td>\n",
       "    </tr>\n",
       "    <tr>\n",
       "      <th>9909</th>\n",
       "      <td>2015-05-10 12:37:51.0000002</td>\n",
       "      <td>9.249717</td>\n",
       "    </tr>\n",
       "    <tr>\n",
       "      <th>9910</th>\n",
       "      <td>2015-01-12 17:05:51.0000001</td>\n",
       "      <td>13.160548</td>\n",
       "    </tr>\n",
       "    <tr>\n",
       "      <th>9911</th>\n",
       "      <td>2015-04-19 20:44:15.0000001</td>\n",
       "      <td>54.622227</td>\n",
       "    </tr>\n",
       "    <tr>\n",
       "      <th>9912</th>\n",
       "      <td>2015-01-31 01:05:19.0000005</td>\n",
       "      <td>23.718388</td>\n",
       "    </tr>\n",
       "    <tr>\n",
       "      <th>9913</th>\n",
       "      <td>2015-01-18 14:06:23.0000006</td>\n",
       "      <td>6.214715</td>\n",
       "    </tr>\n",
       "  </tbody>\n",
       "</table>\n",
       "<p>9914 rows × 2 columns</p>\n",
       "</div>"
      ],
      "text/plain": [
       "                              key  fare_amount\n",
       "0     2015-01-27 13:08:24.0000002     9.281945\n",
       "1     2015-01-27 13:08:24.0000003     9.870304\n",
       "2     2011-10-08 11:53:44.0000002     6.182840\n",
       "3     2012-12-01 21:12:12.0000002     8.113790\n",
       "4     2012-12-01 21:12:12.0000003    14.575932\n",
       "...                           ...          ...\n",
       "9909  2015-05-10 12:37:51.0000002     9.249717\n",
       "9910  2015-01-12 17:05:51.0000001    13.160548\n",
       "9911  2015-04-19 20:44:15.0000001    54.622227\n",
       "9912  2015-01-31 01:05:19.0000005    23.718388\n",
       "9913  2015-01-18 14:06:23.0000006     6.214715\n",
       "\n",
       "[9914 rows x 2 columns]"
      ]
     },
     "execution_count": 136,
     "metadata": {},
     "output_type": "execute_result"
    }
   ],
   "source": [
    "predict_and_submit(grad_model,test_inputs,'grad_model_submission.csv')"
   ]
  },
  {
   "cell_type": "code",
   "execution_count": null,
   "id": "49a181f5",
   "metadata": {},
   "outputs": [],
   "source": []
  },
  {
   "cell_type": "code",
   "execution_count": null,
   "id": "2cdde67c",
   "metadata": {},
   "outputs": [],
   "source": []
  },
  {
   "cell_type": "code",
   "execution_count": null,
   "id": "18266495",
   "metadata": {},
   "outputs": [],
   "source": []
  },
  {
   "cell_type": "markdown",
   "id": "967f6965",
   "metadata": {},
   "source": [
    "# Tuning Hyperparameters"
   ]
  },
  {
   "cell_type": "code",
   "execution_count": 137,
   "id": "fa47dfe4",
   "metadata": {},
   "outputs": [],
   "source": [
    "# other_params = {\n",
    "#     'base_score':[0.2, 0.3, 0.4, 0.5, 0.6, 0.7, 0.8],\n",
    "#     'colsample_bytree':[0,1],\n",
    "#     'gamma':[0,1,2,3,4],\n",
    "#     'max_depth':[2,3,4,5,6,7], \n",
    "#     'max_leaves':[0,1,2,3,4,5,6],\n",
    "#     'min_child_weight':[0,1,2,3,4,5], \n",
    "#     'num_parallel_tree':[100, 130, 160, 190, 220, 250, 280], \n",
    "# }"
   ]
  },
  {
   "cell_type": "code",
   "execution_count": 138,
   "id": "e02f739e",
   "metadata": {},
   "outputs": [],
   "source": [
    "def test_params(Model,**params):\n",
    "    model = Model(**params).fit(train_inputs,train_targets)\n",
    "    train_rmse = mean_squared_error(model.predict(train_inputs),train_targets,squared=False)\n",
    "    val_rmse = mean_squared_error(model.predict(val_inputs),val_targets,squared=False)\n",
    "    return train_rmse,val_rmse"
   ]
  },
  {
   "cell_type": "code",
   "execution_count": null,
   "id": "e332a93e",
   "metadata": {},
   "outputs": [],
   "source": []
  },
  {
   "cell_type": "code",
   "execution_count": 139,
   "id": "153363e8",
   "metadata": {},
   "outputs": [],
   "source": [
    "def test_params_and_plot(Model,param_name,param_values,**other_params):\n",
    "    train_errors,val_errors =[],[]\n",
    "    for value in param_values:\n",
    "        params = dict(other_params)\n",
    "        params[param_name]=value\n",
    "        train_rmse,val_rmse = test_params(Model,**params)\n",
    "        train_errors.append(train_rmse)\n",
    "        val_errors.append(val_rmse)\n",
    "    plt.figure(figsize=(10,6))\n",
    "    plt.plot(param_values,train_errors,'b-o')\n",
    "    plt.plot(param_values,val_errors,'r-o')\n",
    "    plt.xlabel(param_name)\n",
    "    plt.ylabel('RMSE')\n",
    "    "
   ]
  },
  {
   "cell_type": "code",
   "execution_count": 140,
   "id": "5bd99706",
   "metadata": {},
   "outputs": [
    {
     "data": {
      "text/plain": [
       "2"
      ]
     },
     "execution_count": 140,
     "metadata": {},
     "output_type": "execute_result"
    }
   ],
   "source": [
    "1+1"
   ]
  },
  {
   "cell_type": "code",
   "execution_count": 141,
   "id": "dfad276b",
   "metadata": {},
   "outputs": [],
   "source": [
    "best_params={\n",
    "    'n_jobs':-1,\n",
    "    'booster':'gbtree',\n",
    "    'early_stopping_rounds':None, \n",
    "    'enable_categorical':False,\n",
    "    'objective':'reg:squarederror', \n",
    "    'predictor':'auto', \n",
    "    'random_state':42,\n",
    "    'grow_policy':'depthwise',\n",
    "    'importance_type':None,\n",
    "    'sampling_method':'uniform',\n",
    "    'n_estimators':280,\n",
    "    'max_depth':9,\n",
    "    'gamma':0,\n",
    "    'max_leaves':0,\n",
    "    'num_parallel_tree':100\n",
    "}"
   ]
  },
  {
   "cell_type": "code",
   "execution_count": 144,
   "id": "cf500526",
   "metadata": {},
   "outputs": [
    {
     "name": "stdout",
     "output_type": "stream",
     "text": [
      "3.638840887946202 4.156041608909352\n"
     ]
    }
   ],
   "source": [
    "model = XGBRFRegressor(**best_params).fit(train_inputs,train_targets)\n",
    "train_pred = model.predict(train_inputs)\n",
    "train_rmse = mean_squared_error(train_targets,train_pred,squared=False)\n",
    "val_pred = model.predict(val_inputs)\n",
    "val_rmse = mean_squared_error(val_targets,val_pred,squared=False)\n",
    "print(train_rmse, val_rmse)"
   ]
  },
  {
   "cell_type": "markdown",
   "id": "a604cd19",
   "metadata": {},
   "source": [
    "# using pickle"
   ]
  },
  {
   "cell_type": "code",
   "execution_count": null,
   "id": "04b32827",
   "metadata": {},
   "outputs": [],
   "source": [
    "import pickle"
   ]
  },
  {
   "cell_type": "code",
   "execution_count": 145,
   "id": "dd8f9a2b",
   "metadata": {},
   "outputs": [],
   "source": [
    "pickle_out = open('classifier_final.pkl','wb')"
   ]
  },
  {
   "cell_type": "code",
   "execution_count": 147,
   "id": "20343453",
   "metadata": {},
   "outputs": [
    {
     "data": {
      "application/javascript": [
       "\n",
       "        if (window._pyforest_update_imports_cell) { window._pyforest_update_imports_cell('import pickle'); }\n",
       "    "
      ],
      "text/plain": [
       "<IPython.core.display.Javascript object>"
      ]
     },
     "metadata": {},
     "output_type": "display_data"
    }
   ],
   "source": [
    "pickle.dump(model,pickle_out)"
   ]
  },
  {
   "cell_type": "code",
   "execution_count": 148,
   "id": "e0046905",
   "metadata": {},
   "outputs": [],
   "source": [
    "pickle_out.close()"
   ]
  },
  {
   "cell_type": "code",
   "execution_count": null,
   "id": "e9c0fd47",
   "metadata": {},
   "outputs": [],
   "source": []
  }
 ],
 "metadata": {
  "kernelspec": {
   "display_name": "Python 3",
   "language": "python",
   "name": "python3"
  },
  "language_info": {
   "codemirror_mode": {
    "name": "ipython",
    "version": 3
   },
   "file_extension": ".py",
   "mimetype": "text/x-python",
   "name": "python",
   "nbconvert_exporter": "python",
   "pygments_lexer": "ipython3",
   "version": "3.8.8"
  }
 },
 "nbformat": 4,
 "nbformat_minor": 5
}
